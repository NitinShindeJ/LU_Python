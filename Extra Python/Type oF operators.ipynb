{
 "cells": [
  {
   "cell_type": "markdown",
   "metadata": {},
   "source": [
    "Types of Operator\n",
    " Arithmetic Operators\n",
    " Comparison (Relational) Operators\n",
    " Assignment Operators\n",
    " Logical Operators\n",
    " Bitwise Operators\n",
    " Membership Operators\n",
    " Identity Operators"
   ]
  },
  {
   "cell_type": "markdown",
   "metadata": {},
   "source": [
    "Arithmetic Operators\n",
    "1. addition +\n",
    "2. Subtraction - \n",
    "3. Multiplication *\n",
    "4. Division /\n",
    "5. Modulus % \n",
    "6. Exponent **\n",
    "7. Floor Division //"
   ]
  },
  {
   "cell_type": "code",
   "execution_count": 1,
   "metadata": {},
   "outputs": [],
   "source": [
    "a = 21\n",
    "b = 10\n",
    "c = 0\n",
    "c = a + b"
   ]
  },
  {
   "cell_type": "code",
   "execution_count": 9,
   "metadata": {},
   "outputs": [
    {
     "data": {
      "text/plain": [
       "52"
      ]
     },
     "execution_count": 9,
     "metadata": {},
     "output_type": "execute_result"
    }
   ],
   "source": [
    "c"
   ]
  },
  {
   "cell_type": "code",
   "execution_count": 5,
   "metadata": {},
   "outputs": [],
   "source": [
    "Comparison (Relational) Operators\n",
    "1. ==\n",
    "2. !=\n",
    "3. > , <\n",
    "4. >= , <="
   ]
  },
  {
   "cell_type": "code",
   "execution_count": null,
   "metadata": {},
   "outputs": [],
   "source": [
    "Assignment Operators\n",
    "1. =\n",
    "2. +=\n",
    "3. -=\n",
    "4. *=\n",
    "5. /=\n",
    "6. %=\n",
    "7. **=\n",
    "8. //="
   ]
  },
  {
   "cell_type": "markdown",
   "metadata": {},
   "source": [
    "Bitwise Operators\n",
    "Bitwise operator works on bits and performs bit-by-bit operation"
   ]
  },
  {
   "cell_type": "markdown",
   "metadata": {},
   "source": [
    "Logical Operators\n",
    "1. AND\n",
    "2. OR\n",
    "3. NOT"
   ]
  },
  {
   "cell_type": "markdown",
   "metadata": {},
   "source": [
    "Membership Operators\n",
    "1. in\n",
    "# x in y, here in results in a 1 if x is a member of sequence y.\n",
    "2. not in\n",
    "# x not in y, here not in results in a 1 if x is not a member of sequence y."
   ]
  },
  {
   "cell_type": "code",
   "execution_count": 10,
   "metadata": {},
   "outputs": [
    {
     "name": "stdout",
     "output_type": "stream",
     "text": [
      "Line 1 - a is not available in the given list\n",
      "Line 2 - b is not available in the given list\n",
      "Line 3 - a is available in the given list\n"
     ]
    }
   ],
   "source": [
    "a = 10\n",
    "b = 20\n",
    "list = [1, 2, 3, 4, 5 ]\n",
    "if ( a in list ):\n",
    "    print (\"Line 1 - a is available in the given list\")\n",
    "else:\n",
    "    print (\"Line 1 - a is not available in the given list\")\n",
    "if ( b not in list ):\n",
    "    print (\"Line 2 - b is not available in the given list\")\n",
    "else:\n",
    "    print (\"Line 2 - b is available in the given list\")\n",
    "c=b/a\n",
    "if ( c in list ):\n",
    "    print (\"Line 3 - a is available in the given list\")\n",
    "else:\n",
    "    print (\"Line 3 - a is not available in the given list\")"
   ]
  },
  {
   "cell_type": "markdown",
   "metadata": {},
   "source": [
    "Identity Operators\n",
    "1. is\n",
    "# x is y, here is results in 1 if id(x) equals id(y).\n",
    "2. is not\n",
    "# x is not y, here is not results in 1 if id(x) is not equal to id(y)."
   ]
  },
  {
   "cell_type": "code",
   "execution_count": 12,
   "metadata": {},
   "outputs": [
    {
     "name": "stdout",
     "output_type": "stream",
     "text": [
      "Line 1 a= 20 : 1466986560 b= 20 : 1466986560\n",
      "Line 2 - a and b have same identity\n",
      "Line 3 - a and b have same identity\n",
      "Line 4 a= 20 : 1466986560 b= 30 : 1466986880\n",
      "Line 5 - a and b do not have same identity\n"
     ]
    }
   ],
   "source": [
    "a = 20\n",
    "b = 20\n",
    "print ('Line 1','a=',a,':',id(a), 'b=',b,':',id(b))\n",
    "if ( a is b ):\n",
    "    print (\"Line 2 - a and b have same identity\")\n",
    "else:\n",
    "    print (\"Line 2 - a and b do not have same identity\")\n",
    "if ( id(a) == id(b) ):\n",
    "    print (\"Line 3 - a and b have same identity\")\n",
    "else:\n",
    "    print (\"Line 3 - a and b do not have same identity\")\n",
    "b = 30\n",
    "print ('Line 4','a=',a,':',id(a), 'b=',b,':',id(b))\n",
    "if ( a is not b ):\n",
    "    print (\"Line 5 - a and b do not have same identity\")\n",
    "else:\n",
    "    print (\"Line 5 - a and b have same identity\")"
   ]
  },
  {
   "cell_type": "code",
   "execution_count": null,
   "metadata": {},
   "outputs": [],
   "source": []
  },
  {
   "cell_type": "code",
   "execution_count": null,
   "metadata": {},
   "outputs": [],
   "source": []
  },
  {
   "cell_type": "code",
   "execution_count": null,
   "metadata": {},
   "outputs": [],
   "source": []
  },
  {
   "cell_type": "code",
   "execution_count": null,
   "metadata": {},
   "outputs": [],
   "source": []
  },
  {
   "cell_type": "code",
   "execution_count": null,
   "metadata": {},
   "outputs": [],
   "source": []
  },
  {
   "cell_type": "code",
   "execution_count": null,
   "metadata": {},
   "outputs": [],
   "source": []
  },
  {
   "cell_type": "code",
   "execution_count": null,
   "metadata": {},
   "outputs": [],
   "source": []
  },
  {
   "cell_type": "code",
   "execution_count": null,
   "metadata": {},
   "outputs": [],
   "source": []
  },
  {
   "cell_type": "code",
   "execution_count": null,
   "metadata": {},
   "outputs": [],
   "source": []
  },
  {
   "cell_type": "code",
   "execution_count": null,
   "metadata": {},
   "outputs": [],
   "source": []
  },
  {
   "cell_type": "code",
   "execution_count": null,
   "metadata": {},
   "outputs": [],
   "source": []
  },
  {
   "cell_type": "code",
   "execution_count": null,
   "metadata": {},
   "outputs": [],
   "source": []
  },
  {
   "cell_type": "code",
   "execution_count": null,
   "metadata": {},
   "outputs": [],
   "source": []
  },
  {
   "cell_type": "code",
   "execution_count": null,
   "metadata": {},
   "outputs": [],
   "source": []
  },
  {
   "cell_type": "code",
   "execution_count": null,
   "metadata": {},
   "outputs": [],
   "source": []
  }
 ],
 "metadata": {
  "kernelspec": {
   "display_name": "Python 3",
   "language": "python",
   "name": "python3"
  },
  "language_info": {
   "codemirror_mode": {
    "name": "ipython",
    "version": 3
   },
   "file_extension": ".py",
   "mimetype": "text/x-python",
   "name": "python",
   "nbconvert_exporter": "python",
   "pygments_lexer": "ipython3",
   "version": "3.6.4"
  }
 },
 "nbformat": 4,
 "nbformat_minor": 2
}
