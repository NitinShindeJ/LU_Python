{
 "cells": [
  {
   "cell_type": "markdown",
   "metadata": {},
   "source": [
    "# Variables "
   ]
  },
  {
   "cell_type": "code",
   "execution_count": 56,
   "metadata": {},
   "outputs": [],
   "source": [
    "message='Hello Guys!!'\n",
    "value=2\n",
    "PI=3.14\n",
    "x=True"
   ]
  },
  {
   "cell_type": "code",
   "execution_count": 57,
   "metadata": {},
   "outputs": [
    {
     "data": {
      "text/plain": [
       "bool"
      ]
     },
     "execution_count": 57,
     "metadata": {},
     "output_type": "execute_result"
    }
   ],
   "source": [
    "#type(message)\n",
    "#type(value)\n",
    "#type(PI)\n",
    "type(x)"
   ]
  },
  {
   "cell_type": "markdown",
   "metadata": {},
   "source": [
    "# Invalid syntax for defining variable"
   ]
  },
  {
   "cell_type": "code",
   "execution_count": 58,
   "metadata": {},
   "outputs": [
    {
     "ename": "SyntaxError",
     "evalue": "invalid syntax (<ipython-input-58-0ad37aa2a6f5>, line 1)",
     "output_type": "error",
     "traceback": [
      "\u001b[1;36m  File \u001b[1;32m\"<ipython-input-58-0ad37aa2a6f5>\"\u001b[1;36m, line \u001b[1;32m1\u001b[0m\n\u001b[1;33m    74asa='my name'\u001b[0m\n\u001b[1;37m        ^\u001b[0m\n\u001b[1;31mSyntaxError\u001b[0m\u001b[1;31m:\u001b[0m invalid syntax\n"
     ]
    }
   ],
   "source": [
    "74asa='my name'\n",
    "#and='131'\n",
    "#ma@=21"
   ]
  },
  {
   "cell_type": "markdown",
   "metadata": {},
   "source": [
    "# Reserve Keywords\n",
    "\n",
    "and,del,from,None,True,as,elif,global,nonlocal,try\n",
    "assert,else,if,not,while,break,except,import,or,with\n",
    "class,False,in,pass,yield,continue,finally,is,raise\n",
    "def,for,lambda,return"
   ]
  },
  {
   "cell_type": "markdown",
   "metadata": {},
   "source": [
    "# Types of Statement"
   ]
  },
  {
   "cell_type": "code",
   "execution_count": null,
   "metadata": {},
   "outputs": [],
   "source": [
    "print(1)\n",
    "x=2\n",
    "print(x)\n",
    "print('Value')"
   ]
  },
  {
   "cell_type": "markdown",
   "metadata": {},
   "source": [
    "# Order Information"
   ]
  },
  {
   "cell_type": "code",
   "execution_count": 59,
   "metadata": {},
   "outputs": [
    {
     "data": {
      "text/plain": [
       "6"
      ]
     },
     "execution_count": 59,
     "metadata": {},
     "output_type": "execute_result"
    }
   ],
   "source": [
    "2*(4-1)"
   ]
  },
  {
   "cell_type": "code",
   "execution_count": 60,
   "metadata": {},
   "outputs": [
    {
     "data": {
      "text/plain": [
       "8"
      ]
     },
     "execution_count": 60,
     "metadata": {},
     "output_type": "execute_result"
    }
   ],
   "source": [
    "2**3"
   ]
  },
  {
   "cell_type": "code",
   "execution_count": 61,
   "metadata": {},
   "outputs": [
    {
     "data": {
      "text/plain": [
       "3"
      ]
     },
     "execution_count": 61,
     "metadata": {},
     "output_type": "execute_result"
    }
   ],
   "source": [
    "2**1+1"
   ]
  },
  {
   "cell_type": "code",
   "execution_count": 62,
   "metadata": {},
   "outputs": [
    {
     "data": {
      "text/plain": [
       "1"
      ]
     },
     "execution_count": 62,
     "metadata": {},
     "output_type": "execute_result"
    }
   ],
   "source": [
    "#2*1**1\n",
    "#2*3-1\n",
    "#6+4/2\n",
    "5-3-1"
   ]
  },
  {
   "cell_type": "markdown",
   "metadata": {},
   "source": [
    "# Modular Operator"
   ]
  },
  {
   "cell_type": "code",
   "execution_count": 63,
   "metadata": {},
   "outputs": [
    {
     "name": "stdout",
     "output_type": "stream",
     "text": [
      "1\n"
     ]
    }
   ],
   "source": [
    "value = 4//3\n",
    "print(value)"
   ]
  },
  {
   "cell_type": "code",
   "execution_count": 64,
   "metadata": {},
   "outputs": [
    {
     "name": "stdout",
     "output_type": "stream",
     "text": [
      "1\n"
     ]
    }
   ],
   "source": [
    "value = 4%3\n",
    "print(value)"
   ]
  },
  {
   "cell_type": "markdown",
   "metadata": {},
   "source": [
    "# Type Of Operations"
   ]
  },
  {
   "cell_type": "code",
   "execution_count": 65,
   "metadata": {},
   "outputs": [
    {
     "data": {
      "text/plain": [
       "5"
      ]
     },
     "execution_count": 65,
     "metadata": {},
     "output_type": "execute_result"
    }
   ],
   "source": [
    "2+3"
   ]
  },
  {
   "cell_type": "code",
   "execution_count": 66,
   "metadata": {},
   "outputs": [
    {
     "data": {
      "text/plain": [
       "'abcd'"
      ]
     },
     "execution_count": 66,
     "metadata": {},
     "output_type": "execute_result"
    }
   ],
   "source": [
    "'ab'+'cd'"
   ]
  },
  {
   "cell_type": "code",
   "execution_count": 67,
   "metadata": {},
   "outputs": [
    {
     "name": "stdout",
     "output_type": "stream",
     "text": [
      "20100.0\n"
     ]
    }
   ],
   "source": [
    "a1=100.5\n",
    "a2=200\n",
    "print(a1*a2)"
   ]
  },
  {
   "cell_type": "code",
   "execution_count": 68,
   "metadata": {},
   "outputs": [
    {
     "name": "stdout",
     "output_type": "stream",
     "text": [
      "300\n"
     ]
    }
   ],
   "source": [
    "a3=100\n",
    "a4=200\n",
    "print(a3+a4)"
   ]
  },
  {
   "cell_type": "code",
   "execution_count": 69,
   "metadata": {},
   "outputs": [],
   "source": [
    "height = 1.4\n",
    "weight = 68.7"
   ]
  },
  {
   "cell_type": "code",
   "execution_count": 70,
   "metadata": {},
   "outputs": [
    {
     "data": {
      "text/plain": [
       "2.0"
      ]
     },
     "execution_count": 70,
     "metadata": {},
     "output_type": "execute_result"
    }
   ],
   "source": [
    "import math \n",
    "#BMI=weight/height**2\n",
    "#print(BMI)\n",
    "math.sqrt(4)"
   ]
  },
  {
   "cell_type": "code",
   "execution_count": 71,
   "metadata": {},
   "outputs": [
    {
     "name": "stdout",
     "output_type": "stream",
     "text": [
      "45\n"
     ]
    }
   ],
   "source": [
    "asasq= str(input())"
   ]
  },
  {
   "cell_type": "code",
   "execution_count": 72,
   "metadata": {},
   "outputs": [
    {
     "data": {
      "text/plain": [
       "'45'"
      ]
     },
     "execution_count": 72,
     "metadata": {},
     "output_type": "execute_result"
    }
   ],
   "source": [
    "asasq"
   ]
  },
  {
   "cell_type": "markdown",
   "metadata": {},
   "source": [
    "# Asking User Input"
   ]
  },
  {
   "cell_type": "code",
   "execution_count": 75,
   "metadata": {},
   "outputs": [
    {
     "name": "stdout",
     "output_type": "stream",
     "text": [
      "Input Height in Cm\n",
      "4\n",
      "Input Weight\n",
      "13\n",
      "<class 'float'>\n",
      "<class 'int'>\n"
     ]
    }
   ],
   "source": [
    "height=float(input('Input Height in Cm\\n'))\n",
    "weight=int(input('Input Weight\\n'))\n",
    "#float(height)\n",
    "#int(weight)\n",
    "print(type(height))\n",
    "print(type(weight))"
   ]
  },
  {
   "cell_type": "code",
   "execution_count": 74,
   "metadata": {},
   "outputs": [
    {
     "name": "stdout",
     "output_type": "stream",
     "text": [
      "0.000461578369140625\n"
     ]
    }
   ],
   "source": [
    "BMI=weight/height**2\n",
    "print(BMI)"
   ]
  },
  {
   "cell_type": "markdown",
   "metadata": {},
   "source": [
    "# Exercise"
   ]
  },
  {
   "cell_type": "markdown",
   "metadata": {},
   "source": [
    "Exercise 1: Write a program that uses input to prompt a user for their name and\n",
    "then welcomes them.\n",
    "    Enter your name: Chuck\n",
    "    Hello Chuck\n",
    "\n",
    "\n",
    "\n",
    "Exercise 2: Write a program to prompt the user for hours and rate per hour to\n",
    "compute gross pay.\n",
    "    Enter Hours: 35\n",
    "    Enter Rate: 2.75\n",
    "    Pay: 96.25\n",
    "We won’t worry about making sure our pay has exactly two digits after the decimal\n",
    "place for now. If you want, you can play with the built-in Python round function\n",
    "to properly round the resulting pay to two decimal places.\n",
    "\n",
    "\n",
    "\n",
    "Exercise 3: Assume that we execute the following assignment statements:\n",
    "    width = 17\n",
    "    height = 12.0\n",
    "For each of the following expressions, write the value of the expression and the\n",
    "type (of the value of the expression).\n",
    "    1. width//2\n",
    "    2. width/2.0\n",
    "    3. height/3\n",
    "Use the Python interpreter to check your answers.\n",
    "\n",
    "\n",
    "\n",
    "\n",
    "Exercise 4: Write a program which prompts the user for a Celsius temperature,\n",
    "convert the temperature to Fahrenheit, and print out the converted temperature.\n",
    "\n",
    "Formula: (TempinC * 9/5) + 32"
   ]
  },
  {
   "cell_type": "raw",
   "metadata": {},
   "source": []
  },
  {
   "cell_type": "code",
   "execution_count": 5,
   "metadata": {},
   "outputs": [
    {
     "name": "stdout",
     "output_type": "stream",
     "text": [
      "Enter your Name:ya\n",
      "Hello yaya\n"
     ]
    }
   ],
   "source": [
    "a= input('Enter your Name:')\n",
    "print(\"Hello \" + 2*a)"
   ]
  },
  {
   "cell_type": "code",
   "execution_count": 9,
   "metadata": {},
   "outputs": [
    {
     "name": "stdout",
     "output_type": "stream",
     "text": [
      "Enter Rate:35\n",
      "Enter Hours:5\n",
      "Pay rate is  175.0\n"
     ]
    }
   ],
   "source": [
    "rate = float(input(\"Enter Rate:\"))\n",
    "hour = float(input(\"Enter Hours:\"))\n",
    "pay = rate * hour\n",
    "print(\"Pay rate is \", pay)\n"
   ]
  },
  {
   "cell_type": "code",
   "execution_count": 10,
   "metadata": {},
   "outputs": [
    {
     "name": "stdout",
     "output_type": "stream",
     "text": [
      "Temp in Degree Cel : 32\n",
      "89.6\n"
     ]
    }
   ],
   "source": [
    "temp = float(input(\"Temp in Degree Cel : \"))\n",
    "\n",
    "forFar= (temp * 9/5) + 32\n",
    "\n",
    "print(forFar)"
   ]
  },
  {
   "cell_type": "code",
   "execution_count": null,
   "metadata": {},
   "outputs": [],
   "source": []
  },
  {
   "cell_type": "raw",
   "metadata": {},
   "source": [
    "#Exe1\n",
    "a= input('Enter your name: ')\n",
    "print('Hello ' + a )\n",
    "#Exe2\n",
    "Enter_Hours= 35\n",
    "Enter_Rate= 2.75\n",
    "Pay= Enter_Hours * Enter_Rate\n",
    "print(Pay)\n",
    "#Exe3\n",
    "width=17\n",
    "height=12.0\n",
    "print(type(width//2))\n",
    "print(type(width/2.0))\n",
    "print(type(height/3))\n",
    "#Exe4\n",
    "Temp_in_C= 25\n",
    "Temp_in_F= (Temp_in_C * 9/5)+ 32\n",
    "print(Temp_in_F)"
   ]
  }
 ],
 "metadata": {
  "kernelspec": {
   "display_name": "Python 3",
   "language": "python",
   "name": "python3"
  },
  "language_info": {
   "codemirror_mode": {
    "name": "ipython",
    "version": 3
   },
   "file_extension": ".py",
   "mimetype": "text/x-python",
   "name": "python",
   "nbconvert_exporter": "python",
   "pygments_lexer": "ipython3",
   "version": "3.6.4"
  },
  "widgets": {
   "application/vnd.jupyter.widget-state+json": {
    "state": {},
    "version_major": 2,
    "version_minor": 0
   }
  }
 },
 "nbformat": 4,
 "nbformat_minor": 2
}
