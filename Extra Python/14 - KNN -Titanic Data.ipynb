{
 "cells": [
  {
   "cell_type": "code",
   "execution_count": 3,
   "metadata": {},
   "outputs": [],
   "source": [
    "import numpy as np\n",
    "x = np.array([1, 2, 3])\n",
    "y = np.array([3, 2, 1])\n",
    "z = x + y"
   ]
  },
  {
   "cell_type": "code",
   "execution_count": 2,
   "metadata": {
    "collapsed": true
   },
   "outputs": [],
   "source": [
    "#feature selection \n",
    "training_data = training_data[['Name','Pclass','Sex','Age','Survived']]\n",
    "testing_data = testing_data[['Name','Pclass','Sex','Age','Survived']]\n"
   ]
  },
  {
   "cell_type": "code",
   "execution_count": 3,
   "metadata": {},
   "outputs": [
    {
     "name": "stdout",
     "output_type": "stream",
     "text": [
      "Name          0\n",
      "Pclass        0\n",
      "Sex           0\n",
      "Age         177\n",
      "Survived      0\n",
      "dtype: int64\n",
      "Name        0\n",
      "Pclass      0\n",
      "Sex         0\n",
      "Age         2\n",
      "Survived    0\n",
      "dtype: int64\n"
     ]
    }
   ],
   "source": [
    "#finding the missing values\n",
    "print(training_data.isnull().sum())\n",
    "print(testing_data.isnull().sum())"
   ]
  },
  {
   "cell_type": "code",
   "execution_count": 4,
   "metadata": {},
   "outputs": [
    {
     "name": "stdout",
     "output_type": "stream",
     "text": [
      "Name        0\n",
      "Pclass      0\n",
      "Sex         0\n",
      "Age         0\n",
      "Survived    0\n",
      "dtype: int64\n",
      "Name        0\n",
      "Pclass      0\n",
      "Sex         0\n",
      "Age         0\n",
      "Survived    0\n",
      "dtype: int64\n"
     ]
    }
   ],
   "source": [
    "#imputing numerical missing data with mean value\n",
    "\n",
    "training_data[\"Age\"].fillna(training_data[\"Age\"].mean(),inplace=True)\n",
    "print(training_data.isnull().sum())\n",
    "\n",
    "#imputing numerical missing data with mean value\n",
    "\n",
    "testing_data[\"Age\"].fillna(testing_data[\"Age\"].mean(),inplace=True)\n",
    "print(testing_data.isnull().sum())"
   ]
  },
  {
   "cell_type": "code",
   "execution_count": 5,
   "metadata": {
    "collapsed": true
   },
   "outputs": [],
   "source": [
    "#transforming categorical data to numerical\n",
    "\n",
    "from sklearn import preprocessing\n",
    "\n",
    "colname=['Pclass','Sex']\n",
    "\n",
    "le={}\n",
    "\n",
    "for x in colname:\n",
    "     le[x]=preprocessing.LabelEncoder()\n",
    "\n",
    "for x in colname:\n",
    "     training_data[x]=le[x].fit_transform(training_data.__getattr__(x))\n",
    "        \n",
    "for x in colname:\n",
    "     testing_data[x]=le[x].fit_transform(testing_data.__getattr__(x))"
   ]
  },
  {
   "cell_type": "code",
   "execution_count": 7,
   "metadata": {
    "collapsed": true
   },
   "outputs": [
    {
     "name": "stdout",
     "output_type": "stream",
     "text": [
      "                                                Name  Pclass  Sex   Age  \\\n",
      "0                            Braund, Mr. Owen Harris       2    1  22.0   \n",
      "1  Cumings, Mrs. John Bradley (Florence Briggs Th...       0    0  38.0   \n",
      "2                             Heikkinen, Miss. Laina       2    0  26.0   \n",
      "3       Futrelle, Mrs. Jacques Heath (Lily May Peel)       0    0  35.0   \n",
      "4                           Allen, Mr. William Henry       2    1  35.0   \n",
      "\n",
      "   Survived  \n",
      "0         0  \n",
      "1         1  \n",
      "2         1  \n",
      "3         1  \n",
      "4         0  \n",
      "                                               Name  Pclass  Sex   Age  \\\n",
      "0                                 Balkic, Mr. Cerin       2    1  26.0   \n",
      "1  Beckwith, Mrs. Richard Leonard (Sallie Monypeny)       0    0  47.0   \n",
      "2                          Carlsson, Mr. Frans Olof       0    1  33.0   \n",
      "3                       Vander Cruyssen, Mr. Victor       2    1  47.0   \n",
      "4             Abelson, Mrs. Samuel (Hannah Wizosky)       1    0  28.0   \n",
      "\n",
      "   Survived  \n",
      "0         0  \n",
      "1         1  \n",
      "2         0  \n",
      "3         0  \n",
      "4         1  \n"
     ]
    }
   ],
   "source": [
    "print(training_data.head())\n",
    "\n",
    "print(testing_data.head())"
   ]
  },
  {
   "cell_type": "code",
   "execution_count": 9,
   "metadata": {
    "collapsed": true
   },
   "outputs": [],
   "source": [
    "X_train=training_data.values[:,1:-1]\n",
    "Y_train=training_data.values[:,-1]\n",
    "Y_train=Y_train.astype(int)\n",
    "\n",
    "X_test=testing_data.values[:,1:-1]\n",
    "Y_test=testing_data.values[:,-1]\n",
    "Y_test=Y_test.astype(int)"
   ]
  },
  {
   "cell_type": "code",
   "execution_count": 32,
   "metadata": {
    "collapsed": true
   },
   "outputs": [],
   "source": [
    "#predicting using the KNeighbors_Classifier\n",
    "from sklearn.neighbors import KNeighborsClassifier\n",
    "\n",
    "model_KNN=KNeighborsClassifier(n_neighbors=2, metric='euclidean')\n",
    "#fit the model on the data and predict the values\n",
    "model_KNN.fit(X_train,Y_train)\n",
    "\n",
    "Y_pred=model_KNN.predict(X_test)"
   ]
  },
  {
   "cell_type": "code",
   "execution_count": 33,
   "metadata": {},
   "outputs": [
    {
     "name": "stdout",
     "output_type": "stream",
     "text": [
      "[[14  0]\n",
      " [ 2  5]]\n",
      "\n",
      "Classification report: \n",
      "             precision    recall  f1-score   support\n",
      "\n",
      "          0       0.88      1.00      0.93        14\n",
      "          1       1.00      0.71      0.83         7\n",
      "\n",
      "avg / total       0.92      0.90      0.90        21\n",
      "\n",
      "Accuracy of the model:  0.904761904762\n"
     ]
    }
   ],
   "source": [
    "from sklearn.metrics import confusion_matrix, accuracy_score,classification_report\n",
    "\n",
    "confusion_matrix=confusion_matrix(Y_test,Y_pred)\n",
    "print(confusion_matrix)\n",
    "print()\n",
    "\n",
    "\n",
    "print(\"Classification report: \")\n",
    "\n",
    "print(classification_report(Y_test,Y_pred))\n",
    "\n",
    "accuracy_score=accuracy_score(Y_test, Y_pred)\n",
    "print(\"Accuracy of the model: \",accuracy_score)"
   ]
  },
  {
   "cell_type": "code",
   "execution_count": 34,
   "metadata": {},
   "outputs": [
    {
     "name": "stdout",
     "output_type": "stream",
     "text": [
      "Accuracy is  0.857142857143 for K-Value: 1\n",
      "Accuracy is  0.904761904762 for K-Value: 2\n",
      "Accuracy is  0.761904761905 for K-Value: 3\n",
      "Accuracy is  0.761904761905 for K-Value: 4\n",
      "Accuracy is  0.761904761905 for K-Value: 5\n",
      "Accuracy is  0.666666666667 for K-Value: 6\n",
      "Accuracy is  0.714285714286 for K-Value: 7\n",
      "Accuracy is  0.761904761905 for K-Value: 8\n",
      "Accuracy is  0.714285714286 for K-Value: 9\n",
      "Accuracy is  0.714285714286 for K-Value: 10\n",
      "Accuracy is  0.761904761905 for K-Value: 11\n",
      "Accuracy is  0.714285714286 for K-Value: 12\n",
      "Accuracy is  0.809523809524 for K-Value: 13\n",
      "Accuracy is  0.714285714286 for K-Value: 14\n",
      "Accuracy is  0.714285714286 for K-Value: 15\n"
     ]
    }
   ],
   "source": [
    "from sklearn.metrics import accuracy_score\n",
    "\n",
    "for K in range(15):\n",
    "    Kvalue = K+1\n",
    "    model_KNN = KNeighborsClassifier(Kvalue)\n",
    "    model_KNN.fit(X_train, Y_train) \n",
    "    Y_pred = model_KNN.predict(X_test)\n",
    "    print (\"Accuracy is \", accuracy_score(Y_test,Y_pred), \"for K-Value:\",Kvalue)"
   ]
  }
 ],
 "metadata": {
  "kernelspec": {
   "display_name": "Python 3",
   "language": "python",
   "name": "python3"
  },
  "language_info": {
   "codemirror_mode": {
    "name": "ipython",
    "version": 3
   },
   "file_extension": ".py",
   "mimetype": "text/x-python",
   "name": "python",
   "nbconvert_exporter": "python",
   "pygments_lexer": "ipython3",
   "version": "3.6.4"
  }
 },
 "nbformat": 4,
 "nbformat_minor": 2
}
