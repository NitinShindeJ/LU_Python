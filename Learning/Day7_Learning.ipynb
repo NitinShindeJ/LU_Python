{
 "cells": [
  {
   "cell_type": "markdown",
   "metadata": {},
   "source": [
    "### Function"
   ]
  },
  {
   "cell_type": "markdown",
   "metadata": {},
   "source": [
    "#### Syntax of Function\n",
    "def fun_name(parameter): \n",
    "        <statment>\n",
    "        return value\n",
    "fun_name)"
   ]
  },
  {
   "cell_type": "code",
   "execution_count": 1,
   "metadata": {},
   "outputs": [
    {
     "name": "stdout",
     "output_type": "stream",
     "text": [
      "Hello All\n"
     ]
    }
   ],
   "source": [
    "def fun1():\n",
    "    print(\"Hello All\")\n",
    "\n",
    "fun1()"
   ]
  },
  {
   "cell_type": "code",
   "execution_count": 4,
   "metadata": {},
   "outputs": [
    {
     "name": "stdout",
     "output_type": "stream",
     "text": [
      "11\n"
     ]
    }
   ],
   "source": [
    "## Function with Arguments\n",
    "def fun2(a,b): ##a,b are parameters\n",
    "    c = a+b\n",
    "    print(c)\n",
    "\n",
    "## 5,6 are arguments.\n",
    "fun2(5,6)"
   ]
  },
  {
   "cell_type": "code",
   "execution_count": 5,
   "metadata": {},
   "outputs": [
    {
     "name": "stdout",
     "output_type": "stream",
     "text": [
      "50\n"
     ]
    }
   ],
   "source": [
    "## Function with return value\n",
    "#if we required final value for further process\n",
    "## Function with Arguments\n",
    "def fun2(a,b): ##a,b are parameters\n",
    "    c = a+b\n",
    "    return c\n",
    "\n",
    "res = fun2(10,20)+20\n",
    "print(res)\n"
   ]
  },
  {
   "cell_type": "code",
   "execution_count": 10,
   "metadata": {},
   "outputs": [
    {
     "name": "stdout",
     "output_type": "stream",
     "text": [
      "Manish 20\n"
     ]
    },
    {
     "ename": "TypeError",
     "evalue": "fun3() missing 1 required positional argument: 'age'",
     "output_type": "error",
     "traceback": [
      "\u001b[1;31m---------------------------------------------------------------------------\u001b[0m",
      "\u001b[1;31mTypeError\u001b[0m                                 Traceback (most recent call last)",
      "\u001b[1;32m<ipython-input-10-712a6bdf64a0>\u001b[0m in \u001b[0;36m<module>\u001b[1;34m\u001b[0m\n\u001b[0;32m      4\u001b[0m \u001b[1;33m\u001b[0m\u001b[0m\n\u001b[0;32m      5\u001b[0m \u001b[0mfun3\u001b[0m\u001b[1;33m(\u001b[0m\u001b[1;34m\"Manish\"\u001b[0m\u001b[1;33m,\u001b[0m \u001b[1;36m20\u001b[0m\u001b[1;33m)\u001b[0m\u001b[1;33m\u001b[0m\u001b[1;33m\u001b[0m\u001b[0m\n\u001b[1;32m----> 6\u001b[1;33m \u001b[0mfun3\u001b[0m\u001b[1;33m(\u001b[0m\u001b[1;36m50\u001b[0m\u001b[1;33m)\u001b[0m \u001b[1;31m## if argument missing giving error\u001b[0m\u001b[1;33m\u001b[0m\u001b[1;33m\u001b[0m\u001b[0m\n\u001b[0m",
      "\u001b[1;31mTypeError\u001b[0m: fun3() missing 1 required positional argument: 'age'"
     ]
    }
   ],
   "source": [
    "## Function with default value\n",
    "def fun3(name,age):\n",
    "    print(name,age)\n",
    "    \n",
    "fun3(\"Manish\", 20)\n",
    "fun3(50) ## if argument missing giving error"
   ]
  },
  {
   "cell_type": "code",
   "execution_count": 12,
   "metadata": {},
   "outputs": [
    {
     "name": "stdout",
     "output_type": "stream",
     "text": [
      "Raj 30\n"
     ]
    }
   ],
   "source": [
    "def fun3(name,age=30): #age default value is 30\n",
    "    print(name,age)\n",
    "    \n",
    "fun3(\"Raj\")"
   ]
  },
  {
   "cell_type": "code",
   "execution_count": 17,
   "metadata": {},
   "outputs": [
    {
     "name": "stdout",
     "output_type": "stream",
     "text": [
      "Name Age Marks\n",
      "Raj 30 60\n",
      "Nitin 30 20\n"
     ]
    }
   ],
   "source": [
    "def fun3(name,age=30,marks=60): #age default value is 30\n",
    "    print(name,age,marks)\n",
    "print(\"Name\", \"Age\",\"Marks\")    \n",
    "fun3(\"Raj\")\n",
    "fun3(\"Nitin\",marks=20)"
   ]
  },
  {
   "cell_type": "code",
   "execution_count": 20,
   "metadata": {},
   "outputs": [
    {
     "name": "stdout",
     "output_type": "stream",
     "text": [
      "12 0\n",
      "10 20\n"
     ]
    },
    {
     "ename": "TypeError",
     "evalue": "fun4() takes from 1 to 2 positional arguments but 4 were given",
     "output_type": "error",
     "traceback": [
      "\u001b[1;31m---------------------------------------------------------------------------\u001b[0m",
      "\u001b[1;31mTypeError\u001b[0m                                 Traceback (most recent call last)",
      "\u001b[1;32m<ipython-input-20-158d4ed68b17>\u001b[0m in \u001b[0;36m<module>\u001b[1;34m\u001b[0m\n\u001b[0;32m      4\u001b[0m \u001b[0mfun4\u001b[0m\u001b[1;33m(\u001b[0m\u001b[1;36m12\u001b[0m\u001b[1;33m)\u001b[0m\u001b[1;33m\u001b[0m\u001b[1;33m\u001b[0m\u001b[0m\n\u001b[0;32m      5\u001b[0m \u001b[0mfun4\u001b[0m\u001b[1;33m(\u001b[0m\u001b[1;36m10\u001b[0m\u001b[1;33m,\u001b[0m\u001b[1;36m20\u001b[0m\u001b[1;33m)\u001b[0m\u001b[1;33m\u001b[0m\u001b[1;33m\u001b[0m\u001b[0m\n\u001b[1;32m----> 6\u001b[1;33m \u001b[0mfun4\u001b[0m\u001b[1;33m(\u001b[0m\u001b[1;36m0\u001b[0m\u001b[1;33m,\u001b[0m\u001b[1;36m5\u001b[0m\u001b[1;33m,\u001b[0m\u001b[1;36m6\u001b[0m\u001b[1;33m,\u001b[0m\u001b[1;36m8\u001b[0m\u001b[1;33m)\u001b[0m\u001b[1;33m\u001b[0m\u001b[1;33m\u001b[0m\u001b[0m\n\u001b[0m",
      "\u001b[1;31mTypeError\u001b[0m: fun4() takes from 1 to 2 positional arguments but 4 were given"
     ]
    }
   ],
   "source": [
    "def fun4(a,b=0):\n",
    "    print(a,b)\n",
    "\n",
    "fun4(12)\n",
    "fun4(10,20)\n",
    "fun4(0,5,6,8)"
   ]
  },
  {
   "cell_type": "code",
   "execution_count": 21,
   "metadata": {},
   "outputs": [
    {
     "name": "stdout",
     "output_type": "stream",
     "text": [
      "12 ()\n",
      "10 (20,)\n",
      "0 (5, 6, 8)\n"
     ]
    }
   ],
   "source": [
    "# * means tuple\n",
    "def fun4(a,*args): #variable length argument is tuple, args is syntax\n",
    "    print(a,args)\n",
    "\n",
    "fun4(12)\n",
    "fun4(10,20)\n",
    "fun4(0,5,6,8)"
   ]
  },
  {
   "cell_type": "code",
   "execution_count": 23,
   "metadata": {},
   "outputs": [
    {
     "name": "stdout",
     "output_type": "stream",
     "text": [
      "{'name': 'XYZ', 'marks': 70} <class 'dict'>\n"
     ]
    }
   ],
   "source": [
    "##function with keyword arguments\n",
    "#if we don't know the no of arguments\n",
    "def fun5(**kwargs): ###** for dictonary & kwargs is parameter\n",
    "    print(kwargs, type(kwargs))\n",
    "\n",
    "fun5(name=\"XYZ\",marks=70)"
   ]
  },
  {
   "cell_type": "code",
   "execution_count": null,
   "metadata": {},
   "outputs": [],
   "source": [
    "##argument herarcichy \n",
    "def fun(Postionalargument, defaultargument, variableargument, keywordedargument):\n",
    "    "
   ]
  },
  {
   "cell_type": "code",
   "execution_count": 29,
   "metadata": {},
   "outputs": [
    {
     "name": "stdout",
     "output_type": "stream",
     "text": [
      "<class 'dict'> <class 'int'> <class 'float'> <class 'str'>\n"
     ]
    }
   ],
   "source": [
    "def DOUBLEHINGE(s, D = 21.0, L =0.0, W=16.51, O=0.8255, ID = \"DOUBLEHINGE\", **kw):\n",
    "    print(type(kw), type(s),type(D), type(ID))\n",
    "\n",
    "DOUBLEHINGE(s=5)"
   ]
  },
  {
   "cell_type": "code",
   "execution_count": 32,
   "metadata": {},
   "outputs": [
    {
     "name": "stdout",
     "output_type": "stream",
     "text": [
      "Inside before appending [4, 5, 6] 2370989888200\n",
      "After appending  [4, 5, 6, 30] 2370989888200\n",
      "After Calling  [4, 5, 6, 30] 2370989888200\n"
     ]
    }
   ],
   "source": [
    "#passed by value\n",
    "def fun5(list1):\n",
    "    print(\"Inside before appending\", list1, id(list1))\n",
    "    list1.append(30)\n",
    "    print(\"After appending \", list1, id(list1))\n",
    "    \n",
    "list2=[4,5,6]\n",
    "fun5(list2)\n",
    "print(\"After Calling \", list2, id(list2))"
   ]
  },
  {
   "cell_type": "code",
   "execution_count": 33,
   "metadata": {},
   "outputs": [
    {
     "name": "stdout",
     "output_type": "stream",
     "text": [
      "Inside before  30 140706665702704\n",
      "After appending  40 140706665703024\n",
      "After Calling  30 140706665702704\n"
     ]
    }
   ],
   "source": [
    "#passed by value\n",
    "def fun5(a):\n",
    "    print(\"Inside before \", a, id(a))\n",
    "    a = a+10\n",
    "    print(\"After appending \", a, id(a))\n",
    "    \n",
    "a=30\n",
    "fun5(a)\n",
    "print(\"After Calling \", a, id(a))"
   ]
  },
  {
   "cell_type": "markdown",
   "metadata": {},
   "source": [
    "### Module"
   ]
  },
  {
   "cell_type": "code",
   "execution_count": null,
   "metadata": {},
   "outputs": [],
   "source": [
    "# sys are builin module\n",
    "### is we created module \"Modue\"\n",
    "def sum1(a,b):\n",
    "    c= a+b\n",
    "    return c\n",
    "\n",
    "def sub1(a,b):\n",
    "    c = a-b\n",
    "    return c"
   ]
  },
  {
   "cell_type": "code",
   "execution_count": null,
   "metadata": {},
   "outputs": [],
   "source": [
    "#if file store in same folder\n",
    "import Module | import Module as md | from Module import sum1\n",
    "print(Module.sum1(10,20))\n",
    "print(dir(md))"
   ]
  },
  {
   "cell_type": "code",
   "execution_count": null,
   "metadata": {},
   "outputs": [],
   "source": [
    "def multi(a,b):\n",
    "    c = a*b\n",
    "    return c\n",
    "\n",
    "def devide(a,b):\n",
    "    c= a/b\n",
    "    return c "
   ]
  },
  {
   "cell_type": "markdown",
   "metadata": {},
   "source": [
    "### Python Path"
   ]
  },
  {
   "cell_type": "code",
   "execution_count": 34,
   "metadata": {},
   "outputs": [
    {
     "data": {
      "text/plain": [
       "['C:\\\\Users\\\\shinde.ni\\\\Desktop\\\\Git Dict\\\\LU Python LU Es B6\\\\Learning',\n",
       " 'C:\\\\Users\\\\shinde.ni\\\\AppData\\\\Local\\\\Continuum\\\\anaconda3\\\\python37.zip',\n",
       " 'C:\\\\Users\\\\shinde.ni\\\\AppData\\\\Local\\\\Continuum\\\\anaconda3\\\\DLLs',\n",
       " 'C:\\\\Users\\\\shinde.ni\\\\AppData\\\\Local\\\\Continuum\\\\anaconda3\\\\lib',\n",
       " 'C:\\\\Users\\\\shinde.ni\\\\AppData\\\\Local\\\\Continuum\\\\anaconda3',\n",
       " '',\n",
       " 'C:\\\\Users\\\\shinde.ni\\\\AppData\\\\Local\\\\Continuum\\\\anaconda3\\\\lib\\\\site-packages',\n",
       " 'C:\\\\Users\\\\shinde.ni\\\\AppData\\\\Local\\\\Continuum\\\\anaconda3\\\\lib\\\\site-packages\\\\win32',\n",
       " 'C:\\\\Users\\\\shinde.ni\\\\AppData\\\\Local\\\\Continuum\\\\anaconda3\\\\lib\\\\site-packages\\\\win32\\\\lib',\n",
       " 'C:\\\\Users\\\\shinde.ni\\\\AppData\\\\Local\\\\Continuum\\\\anaconda3\\\\lib\\\\site-packages\\\\Pythonwin',\n",
       " 'C:\\\\Users\\\\shinde.ni\\\\AppData\\\\Local\\\\Continuum\\\\anaconda3\\\\lib\\\\site-packages\\\\IPython\\\\extensions',\n",
       " 'C:\\\\Users\\\\shinde.ni\\\\.ipython']"
      ]
     },
     "execution_count": 34,
     "metadata": {},
     "output_type": "execute_result"
    }
   ],
   "source": [
    "import sys\n",
    "sys.path"
   ]
  },
  {
   "cell_type": "code",
   "execution_count": null,
   "metadata": {},
   "outputs": [],
   "source": [
    "import sys\n",
    "## because sys.path is list\n",
    "\n",
    "sys.path.append(\"Required path\")"
   ]
  },
  {
   "cell_type": "code",
   "execution_count": null,
   "metadata": {},
   "outputs": [],
   "source": []
  }
 ],
 "metadata": {
  "kernelspec": {
   "display_name": "Python 3",
   "language": "python",
   "name": "python3"
  },
  "language_info": {
   "codemirror_mode": {
    "name": "ipython",
    "version": 3
   },
   "file_extension": ".py",
   "mimetype": "text/x-python",
   "name": "python",
   "nbconvert_exporter": "python",
   "pygments_lexer": "ipython3",
   "version": "3.7.4"
  }
 },
 "nbformat": 4,
 "nbformat_minor": 2
}
