{
 "cells": [
  {
   "cell_type": "code",
   "execution_count": null,
   "metadata": {},
   "outputs": [],
   "source": [
    "### Assignment for the Day\n",
    "sum_2 = list(range(10))\n",
    "i = 0\n",
    "while i in sum_2:\n",
    "    i += i\n",
    "    print(i, \"-->\")\n",
    "#print(\"Sum of number is \", sum_2)\n",
    "print(sum_2)"
   ]
  },
  {
   "cell_type": "code",
   "execution_count": null,
   "metadata": {},
   "outputs": [],
   "source": [
    "n = list(range(1,4))\n",
    "#n = int (n)\n",
    "total_numbers = n\n",
    "sum=0\n",
    "while (n >= 0):\n",
    "    sum += n\n",
    "    n-=1\n",
    "print (\"sum using while loop \", sum)"
   ]
  },
  {
   "cell_type": "code",
   "execution_count": null,
   "metadata": {},
   "outputs": [],
   "source": [
    "va = int(input(\"Enter the value \"))\n",
    "\n",
    "#for i in range(2,va):\n",
    "if (va % 2 ==0)or (va%3 ==0) or (va%7 ==0) or (va%5 == 0):\n",
    "    print(va,\"is not a prime number\")\n",
    "else:\n",
    "    print(va,\"is a prime number\")"
   ]
  },
  {
   "cell_type": "code",
   "execution_count": null,
   "metadata": {},
   "outputs": [],
   "source": [
    "va = int(input(\"Enter the value \"))\n",
    "#va = [12,5,6]\n",
    "#for i in va:\n",
    "if (va % 2 ==0) or (va%3 ==0) or (va%7 ==0) or (va%5 == 0):\n",
    "    print(va,\"is not a prime number\")\n",
    "else:\n",
    "    print(va,\"is a prime number\")"
   ]
  },
  {
   "cell_type": "code",
   "execution_count": null,
   "metadata": {},
   "outputs": [],
   "source": []
  },
  {
   "cell_type": "code",
   "execution_count": null,
   "metadata": {},
   "outputs": [],
   "source": []
  },
  {
   "cell_type": "code",
   "execution_count": null,
   "metadata": {},
   "outputs": [],
   "source": []
  }
 ],
 "metadata": {
  "kernelspec": {
   "display_name": "Python 3",
   "language": "python",
   "name": "python3"
  },
  "language_info": {
   "codemirror_mode": {
    "name": "ipython",
    "version": 3
   },
   "file_extension": ".py",
   "mimetype": "text/x-python",
   "name": "python",
   "nbconvert_exporter": "python",
   "pygments_lexer": "ipython3",
   "version": "3.7.4"
  }
 },
 "nbformat": 4,
 "nbformat_minor": 2
}
