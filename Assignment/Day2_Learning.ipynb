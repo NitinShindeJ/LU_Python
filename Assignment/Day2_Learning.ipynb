{
 "cells": [
  {
   "cell_type": "markdown",
   "metadata": {},
   "source": [
    "# Notes\n",
    "%t = tab\n",
    "%n = new line\n",
    "%s = string\n",
    "%f = fload\n",
    "%d = integer\n",
    "\\ = for continuation\n",
    "\\a = alarm\n",
    "\n",
    "variable = linking data to name, variable refers to the memory location that contains data"
   ]
  },
  {
   "cell_type": "code",
   "execution_count": 61,
   "metadata": {},
   "outputs": [
    {
     "name": "stdout",
     "output_type": "stream",
     "text": [
      "Hello All\n",
      "Hello       All\n",
      "Hello \n",
      " All\n",
      "Hello \t All\n",
      "Hello All\u0007\n"
     ]
    }
   ],
   "source": [
    "print(\"Hello All\")\n",
    "print(\"Hello \\\n",
    "      All\")\n",
    "print(\"Hello \\n All\")\n",
    "print(\"Hello \\t All\")\n",
    "print(\"Hello All\\a\")"
   ]
  },
  {
   "cell_type": "code",
   "execution_count": 62,
   "metadata": {},
   "outputs": [
    {
     "name": "stdout",
     "output_type": "stream",
     "text": [
      "We aren't master\n",
      "We aren't master\n"
     ]
    }
   ],
   "source": [
    "print(\"We aren\\'t master\")\n",
    "print('We aren\\'t master')"
   ]
  },
  {
   "cell_type": "code",
   "execution_count": 63,
   "metadata": {},
   "outputs": [
    {
     "name": "stdout",
     "output_type": "stream",
     "text": [
      "140707587662832\n",
      "140707587662832\n"
     ]
    }
   ],
   "source": [
    "x=y=20\n",
    "print(id(x))\n",
    "print(id(y))"
   ]
  },
  {
   "cell_type": "code",
   "execution_count": 64,
   "metadata": {},
   "outputs": [
    {
     "ename": "NameError",
     "evalue": "name 'x' is not defined",
     "output_type": "error",
     "traceback": [
      "\u001b[1;31m---------------------------------------------------------------------------\u001b[0m",
      "\u001b[1;31mNameError\u001b[0m                                 Traceback (most recent call last)",
      "\u001b[1;32m<ipython-input-64-6d63e897d7a1>\u001b[0m in \u001b[0;36m<module>\u001b[1;34m\u001b[0m\n\u001b[0;32m      1\u001b[0m \u001b[1;32mdel\u001b[0m\u001b[1;33m(\u001b[0m\u001b[0mx\u001b[0m\u001b[1;33m)\u001b[0m\u001b[1;33m\u001b[0m\u001b[1;33m\u001b[0m\u001b[0m\n\u001b[1;32m----> 2\u001b[1;33m \u001b[0mprint\u001b[0m\u001b[1;33m(\u001b[0m\u001b[0mx\u001b[0m\u001b[1;33m)\u001b[0m\u001b[1;33m\u001b[0m\u001b[1;33m\u001b[0m\u001b[0m\n\u001b[0m",
      "\u001b[1;31mNameError\u001b[0m: name 'x' is not defined"
     ]
    }
   ],
   "source": [
    "del(x)\n",
    "print(x)"
   ]
  },
  {
   "cell_type": "code",
   "execution_count": null,
   "metadata": {},
   "outputs": [],
   "source": [
    "name = \"Nitin\"\n",
    "age = 20\n",
    "Height = 5.6\n",
    "print(\"My Name is\", name, \"& My age is\", age,\". My height is\", Height)\n",
    "print(\"My Name is %s & my age is %d. My height is %0.1f\"%(name, age, Height))"
   ]
  },
  {
   "cell_type": "code",
   "execution_count": null,
   "metadata": {},
   "outputs": [],
   "source": [
    "name = \"Nitin\"\n",
    "age = 20\n",
    "Height = 5.6\n",
    "n_likes = \"cricket\"\n",
    "print(\"My Name is %s & my age is %d. My height is %0.1f and he likes %s\"%(name, age, Height,n_likes))"
   ]
  },
  {
   "cell_type": "code",
   "execution_count": null,
   "metadata": {},
   "outputs": [],
   "source": [
    "print(\"My Name is %s & my age is %d. My height is %0.1f and he likes %s\"%(name, age, Height,n_likes))\n",
    "print(\"My Name is %s & my age is %s. My height is %s and he likes %s\"%(n_likes, age, Height, name))\n",
    "print(\"My Name is %s & my age is %d. My height is %0.1f and he likes %s\"%(n_likes, age, Height, name))\n",
    "print(\"My Name is %s & my age is %d. My height is %f and he likes %s\"%(name, n_likes, age, Height)) ##Error function because of order must follow."
   ]
  },
  {
   "cell_type": "code",
   "execution_count": 65,
   "metadata": {},
   "outputs": [
    {
     "name": "stdout",
     "output_type": "stream",
     "text": [
      "100\n",
      "1000.0\n",
      "John\n"
     ]
    }
   ],
   "source": [
    "counter = 100 \n",
    "miles = 1000.0 \n",
    "name = \"John\"\n",
    "print (counter)\n",
    "print (miles)\n",
    "print (name)"
   ]
  },
  {
   "cell_type": "markdown",
   "metadata": {},
   "source": [
    "# Arithmetic Operators"
   ]
  },
  {
   "cell_type": "code",
   "execution_count": 66,
   "metadata": {},
   "outputs": [],
   "source": [
    "a = 21\n",
    "b = 10\n",
    "c = 0"
   ]
  },
  {
   "cell_type": "code",
   "execution_count": 67,
   "metadata": {},
   "outputs": [
    {
     "name": "stdout",
     "output_type": "stream",
     "text": [
      "Addition - Value of c is  31\n",
      "Subtract - Value of c is  11\n",
      "Multiplication - Value of c is  210\n",
      "Divide - Value of c is  2.1\n",
      "Floor Division - Value of c is  2\n",
      "Modules - Value of c is  1\n",
      "Exponent - Value of c is  16679880978201\n"
     ]
    }
   ],
   "source": [
    "c = a + b\n",
    "print (\"Addition - Value of c is \", c)\n",
    "c = a - b\n",
    "print (\"Subtract - Value of c is \", c)\n",
    "c = a * b\n",
    "print (\"Multiplication - Value of c is \", c)\n",
    "c = a / b\n",
    "print (\"Divide - Value of c is \", c)\n",
    "c = a // b\n",
    "print (\"Floor Division - Value of c is \", c)\n",
    "c = a % b\n",
    "print (\"Modules - Value of c is \", c)\n",
    "c = a ** b\n",
    "print (\"Exponent - Value of c is \", c)"
   ]
  },
  {
   "cell_type": "markdown",
   "metadata": {},
   "source": [
    "# Comparison Operators"
   ]
  },
  {
   "cell_type": "code",
   "execution_count": 68,
   "metadata": {},
   "outputs": [],
   "source": [
    "a = 21\n",
    "b = 60"
   ]
  },
  {
   "cell_type": "code",
   "execution_count": 69,
   "metadata": {},
   "outputs": [
    {
     "name": "stdout",
     "output_type": "stream",
     "text": [
      "Not Equal '!=' a is not equal to b\n",
      "Less than '<' a is less than b\n",
      "Less than or equal to '<=' a is either less than or equal to b\n",
      "21\n",
      "60\n"
     ]
    }
   ],
   "source": [
    "if a == b:\n",
    "    print (\"Equal '==' a is equal to b\")\n",
    "else:\n",
    "    print (\"Not Equal '!=' a is not equal to b\")\n",
    "if ( a < b ):\n",
    "    print (\"Less than '<' a is less than b\" )\n",
    "else:\n",
    "    print (\"Greater Than '>' a is greater than b\")\n",
    "if ( a <= b ):\n",
    "    print (\"Less than or equal to '<=' a is either less than or equal to b\")\n",
    "else:\n",
    "    print (\"Greater than or equal to '<=' a is neither less than nor equal to b\")\n",
    "print(a)\n",
    "print(b)"
   ]
  },
  {
   "cell_type": "markdown",
   "metadata": {},
   "source": [
    "# Bitwise Operators"
   ]
  },
  {
   "cell_type": "code",
   "execution_count": 70,
   "metadata": {},
   "outputs": [],
   "source": [
    "a = 20\n",
    "b = 30"
   ]
  },
  {
   "cell_type": "code",
   "execution_count": 71,
   "metadata": {},
   "outputs": [
    {
     "name": "stdout",
     "output_type": "stream",
     "text": [
      "a= 20 : 0b10100 b= 30 : 0b11110\n"
     ]
    }
   ],
   "source": [
    "a = 20 # 20 = 0001 0100\n",
    "b = 30 # 30 = 0001 1110\n",
    "print ('a=',a,':',bin(a),'b=',b,':',bin(b))"
   ]
  },
  {
   "cell_type": "code",
   "execution_count": 72,
   "metadata": {},
   "outputs": [
    {
     "name": "stdout",
     "output_type": "stream",
     "text": [
      "Result of AND is  20 : 0b10100\n",
      "Result of OR is  30 : 0b11110\n",
      "Result of EXOR is  10 : 0b1010\n",
      "Result of COMPLEMENT is  -21 : -0b10101\n",
      "Result of LEFT SHIFT is  40 : 0b101000\n",
      "Result of RIGHT SHIFT is  10 : 0b1010\n"
     ]
    }
   ],
   "source": [
    "c = a&b\n",
    "print (\"Result of AND is \", c,':',bin(c))\n",
    "c = a|b\n",
    "print (\"Result of OR is \", c,':',bin(c))\n",
    "c = a^b\n",
    "print (\"Result of EXOR is \", c,':',bin(c))\n",
    "c = ~a\n",
    "print (\"Result of COMPLEMENT is \", c,':',bin(c))\n",
    "c = a<<1\n",
    "print (\"Result of LEFT SHIFT is \", c,':',bin(c))\n",
    "c = a>>1\n",
    "print (\"Result of RIGHT SHIFT is \", c,':',bin(c))"
   ]
  },
  {
   "cell_type": "markdown",
   "metadata": {},
   "source": [
    "# Logical Operators"
   ]
  },
  {
   "cell_type": "code",
   "execution_count": 73,
   "metadata": {},
   "outputs": [],
   "source": [
    "a=20\n",
    "b=30"
   ]
  },
  {
   "cell_type": "code",
   "execution_count": 74,
   "metadata": {},
   "outputs": [
    {
     "name": "stdout",
     "output_type": "stream",
     "text": [
      "False Result of a & b\n",
      "True Result of a | b\n"
     ]
    }
   ],
   "source": [
    "print(a>b and b<a, \"Result of a & b\")\n",
    "print(a>b or b>a, \"Result of a | b\")"
   ]
  },
  {
   "cell_type": "code",
   "execution_count": 75,
   "metadata": {},
   "outputs": [
    {
     "name": "stdout",
     "output_type": "stream",
     "text": [
      "a:20 b:10 c:15 d:5\n"
     ]
    }
   ],
   "source": [
    "a = 20\n",
    "b = 10\n",
    "c = 15\n",
    "d = 5\n",
    "print (\"a:%d b:%d c:%d d:%d\" % (a,b,c,d ))"
   ]
  },
  {
   "cell_type": "markdown",
   "metadata": {},
   "source": [
    "# Operators Precedence"
   ]
  },
  {
   "cell_type": "code",
   "execution_count": 76,
   "metadata": {},
   "outputs": [
    {
     "name": "stdout",
     "output_type": "stream",
     "text": [
      "Value of (a + b) * c / d is  90.0\n",
      "Value of ((a + b) * c) / d is  90.0\n",
      "Value of (a + b) * (c / d) is  90.0\n",
      "Value of a + (b * c) / d is  50.0\n"
     ]
    }
   ],
   "source": [
    "e = (a + b) * c / d \n",
    "print (\"Value of (a + b) * c / d is \", e)\n",
    "e = ((a + b) * c) / d \n",
    "print (\"Value of ((a + b) * c) / d is \", e)\n",
    "e = (a + b) * (c / d) \n",
    "print (\"Value of (a + b) * (c / d) is \", e)\n",
    "e = a + (b * c) / d \n",
    "print (\"Value of a + (b * c) / d is \", e)"
   ]
  },
  {
   "cell_type": "code",
   "execution_count": null,
   "metadata": {},
   "outputs": [],
   "source": []
  }
 ],
 "metadata": {
  "kernelspec": {
   "display_name": "Python 3",
   "language": "python",
   "name": "python3"
  },
  "language_info": {
   "codemirror_mode": {
    "name": "ipython",
    "version": 3
   },
   "file_extension": ".py",
   "mimetype": "text/x-python",
   "name": "python",
   "nbconvert_exporter": "python",
   "pygments_lexer": "ipython3",
   "version": "3.7.4"
  }
 },
 "nbformat": 4,
 "nbformat_minor": 2
}
