{
 "cells": [
  {
   "cell_type": "code",
   "execution_count": 1,
   "metadata": {},
   "outputs": [
    {
     "name": "stdout",
     "output_type": "stream",
     "text": [
      "{} <class 'dict'>\n"
     ]
    }
   ],
   "source": [
    "port={}\n",
    "print(port, type(port))"
   ]
  },
  {
   "cell_type": "code",
   "execution_count": 2,
   "metadata": {},
   "outputs": [
    {
     "name": "stdout",
     "output_type": "stream",
     "text": [
      "{20: 'FTP', 21: 'FTP', 22: 'SSH', 23: 'Telnet'}\n"
     ]
    }
   ],
   "source": [
    "port1={20:\"FTP\",21:\"FTP\", 22:\"SSH\",23:\"Telnet\"}\n",
    "print(port1)"
   ]
  },
  {
   "cell_type": "code",
   "execution_count": 3,
   "metadata": {},
   "outputs": [
    {
     "data": {
      "text/plain": [
       "{'i': ',kj', 20: 'Poyt', (2, 3): 'uye', 54.54: 'kh'}"
      ]
     },
     "execution_count": 3,
     "metadata": {},
     "output_type": "execute_result"
    }
   ],
   "source": [
    "#key of the dict can't be change\n",
    "#We can use string, int, float, tuple as key ut not the list\n",
    "d1={\"i\":\",kj\",20:\"Poyt\",(2,3):\"uye\",54.54:\"kh\"}\n",
    "d1"
   ]
  },
  {
   "cell_type": "code",
   "execution_count": 4,
   "metadata": {},
   "outputs": [
    {
     "data": {
      "text/plain": [
       "[]"
      ]
     },
     "execution_count": 4,
     "metadata": {},
     "output_type": "execute_result"
    }
   ],
   "source": [
    "tup1=(1,2,[])\n",
    "tup1[2]"
   ]
  },
  {
   "cell_type": "code",
   "execution_count": 5,
   "metadata": {},
   "outputs": [
    {
     "data": {
      "text/plain": [
       "(1, 2, [10])"
      ]
     },
     "execution_count": 5,
     "metadata": {},
     "output_type": "execute_result"
    }
   ],
   "source": [
    "tup1[2].append(10)\n",
    "tup1"
   ]
  },
  {
   "cell_type": "code",
   "execution_count": 6,
   "metadata": {},
   "outputs": [
    {
     "data": {
      "text/plain": [
       "{'i': 'uye', 20: 'Poyt', 54.54: 'kh'}"
      ]
     },
     "execution_count": 6,
     "metadata": {},
     "output_type": "execute_result"
    }
   ],
   "source": [
    "#keys are unique\n",
    "d1={\"i\":\",kj\",20:\"Poyt\",\"i\":\"uye\",54.54:\"kh\"}\n",
    "d1\n",
    "# i remains but value gets updated"
   ]
  },
  {
   "cell_type": "code",
   "execution_count": 7,
   "metadata": {},
   "outputs": [
    {
     "name": "stdout",
     "output_type": "stream",
     "text": [
      "{20: 'FTP', 21: 'FTP', 22: 'SSH', 23: 'Telnet', 80: 'HTTP', 52: 'DNS'}\n"
     ]
    }
   ],
   "source": [
    "port1={20:\"FTP\",21:\"FTP\", 22:\"SSH\",23:\"Telnet\",80:\"HTTP\",52:\"DNS\"}\n",
    "print(port1)"
   ]
  },
  {
   "cell_type": "code",
   "execution_count": 10,
   "metadata": {},
   "outputs": [
    {
     "name": "stdout",
     "output_type": "stream",
     "text": [
      "FTP DNS\n"
     ]
    }
   ],
   "source": [
    "print(port1[20], port1[52])"
   ]
  },
  {
   "cell_type": "code",
   "execution_count": 11,
   "metadata": {},
   "outputs": [
    {
     "name": "stdout",
     "output_type": "stream",
     "text": [
      "{20: 'FTP', 21: 'FTP', 23: 'Telnet', 80: 'HTTP', 52: 'DNS'}\n"
     ]
    }
   ],
   "source": [
    "del port1[22]\n",
    "print(port1)"
   ]
  },
  {
   "cell_type": "code",
   "execution_count": 12,
   "metadata": {},
   "outputs": [
    {
     "name": "stdout",
     "output_type": "stream",
     "text": [
      "{20: 'FTP', 21: 'FTP', 23: 'Telnet', 80: 'HTTP', 52: 'DNS', 22: 'SSH'}\n"
     ]
    }
   ],
   "source": [
    "port1[22]=\"SSH\"\n",
    "print(port1)"
   ]
  },
  {
   "cell_type": "code",
   "execution_count": 13,
   "metadata": {},
   "outputs": [
    {
     "name": "stdout",
     "output_type": "stream",
     "text": [
      "{20: 'FTP', 21: 'FTP', 23: 'Telnet', 80: 'Web Portocol', 52: 'DNS', 22: 'SSH'}\n"
     ]
    }
   ],
   "source": [
    "port1[80]=\"Web Portocol\"\n",
    "print(port1)"
   ]
  },
  {
   "cell_type": "code",
   "execution_count": null,
   "metadata": {},
   "outputs": [],
   "source": [
    "port1[22]=\"SSH\"\n",
    "print(port1)"
   ]
  },
  {
   "cell_type": "code",
   "execution_count": 14,
   "metadata": {},
   "outputs": [
    {
     "name": "stdout",
     "output_type": "stream",
     "text": [
      "{20: 'FTP', 21: 'FTP', 23: 'Telnet', 80: 'Web Portocol', 52: 'DNS', 22: 'SSH', 642: 'MKSSH'}\n"
     ]
    }
   ],
   "source": [
    "port1[642]=\"MKSSH\"\n",
    "print(port1)"
   ]
  },
  {
   "cell_type": "code",
   "execution_count": 15,
   "metadata": {},
   "outputs": [
    {
     "data": {
      "text/plain": [
       "['__class__',\n",
       " '__contains__',\n",
       " '__delattr__',\n",
       " '__delitem__',\n",
       " '__dir__',\n",
       " '__doc__',\n",
       " '__eq__',\n",
       " '__format__',\n",
       " '__ge__',\n",
       " '__getattribute__',\n",
       " '__getitem__',\n",
       " '__gt__',\n",
       " '__hash__',\n",
       " '__init__',\n",
       " '__init_subclass__',\n",
       " '__iter__',\n",
       " '__le__',\n",
       " '__len__',\n",
       " '__lt__',\n",
       " '__ne__',\n",
       " '__new__',\n",
       " '__reduce__',\n",
       " '__reduce_ex__',\n",
       " '__repr__',\n",
       " '__setattr__',\n",
       " '__setitem__',\n",
       " '__sizeof__',\n",
       " '__str__',\n",
       " '__subclasshook__',\n",
       " 'clear',\n",
       " 'copy',\n",
       " 'fromkeys',\n",
       " 'get',\n",
       " 'items',\n",
       " 'keys',\n",
       " 'pop',\n",
       " 'popitem',\n",
       " 'setdefault',\n",
       " 'update',\n",
       " 'values']"
      ]
     },
     "execution_count": 15,
     "metadata": {},
     "output_type": "execute_result"
    }
   ],
   "source": [
    "dir(dict)"
   ]
  },
  {
   "cell_type": "code",
   "execution_count": 16,
   "metadata": {},
   "outputs": [
    {
     "name": "stdout",
     "output_type": "stream",
     "text": [
      "{20: 'FTP', 21: 'FTP', 23: 'Telnet', 80: 'Web Portocol', 52: 'DNS', 22: 'SSH', 642: 'MKSSH'} 2477920643576 2477920643576\n"
     ]
    }
   ],
   "source": [
    "port2=port1\n",
    "print(port2, id(port1), id(port2))"
   ]
  },
  {
   "cell_type": "code",
   "execution_count": 17,
   "metadata": {},
   "outputs": [
    {
     "name": "stdout",
     "output_type": "stream",
     "text": [
      "{20: 'FTP', 21: 'FTP', 23: 'Telnet', 80: 'Web Portocol', 52: 'DNS', 22: 'SSH', 642: 'MKSSH'}\n"
     ]
    }
   ],
   "source": [
    "port3 = port1.copy()\n",
    "print(port3)"
   ]
  },
  {
   "cell_type": "code",
   "execution_count": 18,
   "metadata": {},
   "outputs": [],
   "source": [
    "port1[67]=\"TFTP\""
   ]
  },
  {
   "cell_type": "code",
   "execution_count": 19,
   "metadata": {},
   "outputs": [
    {
     "name": "stdout",
     "output_type": "stream",
     "text": [
      "{20: 'FTP', 21: 'FTP', 23: 'Telnet', 80: 'Web Portocol', 52: 'DNS', 22: 'SSH', 642: 'MKSSH', 67: 'TFTP'}\n",
      "{20: 'FTP', 21: 'FTP', 23: 'Telnet', 80: 'Web Portocol', 52: 'DNS', 22: 'SSH', 642: 'MKSSH', 67: 'TFTP'}\n",
      "{20: 'FTP', 21: 'FTP', 23: 'Telnet', 80: 'Web Portocol', 52: 'DNS', 22: 'SSH', 642: 'MKSSH'}\n"
     ]
    }
   ],
   "source": [
    "print(port1)\n",
    "print(port2)\n",
    "print(port3) ### copy not update"
   ]
  },
  {
   "cell_type": "code",
   "execution_count": 20,
   "metadata": {},
   "outputs": [
    {
     "data": {
      "text/plain": [
       "True"
      ]
     },
     "execution_count": 20,
     "metadata": {},
     "output_type": "execute_result"
    }
   ],
   "source": [
    "22 in port1"
   ]
  },
  {
   "cell_type": "code",
   "execution_count": 21,
   "metadata": {},
   "outputs": [
    {
     "data": {
      "text/plain": [
       "False"
      ]
     },
     "execution_count": 21,
     "metadata": {},
     "output_type": "execute_result"
    }
   ],
   "source": [
    "25 in port1"
   ]
  },
  {
   "cell_type": "code",
   "execution_count": 30,
   "metadata": {},
   "outputs": [
    {
     "name": "stdout",
     "output_type": "stream",
     "text": [
      "Enter the Key 56\n",
      "Not Found\n",
      "Not Found in DB\n"
     ]
    }
   ],
   "source": [
    "k=eval(input(\"Enter the Key \"))\n",
    "\n",
    "##### Get Method #####\n",
    "print(port1.get(k, \"Not Found in DB\"))\n",
    "\n",
    "### not required 4 line code #### \n",
    "if k in port1:\n",
    "    print(port1[k])\n",
    "else:\n",
    "    print(\"Not Found\")"
   ]
  },
  {
   "cell_type": "code",
   "execution_count": 31,
   "metadata": {},
   "outputs": [
    {
     "name": "stdout",
     "output_type": "stream",
     "text": [
      "Help on method_descriptor:\n",
      "\n",
      "pop(...)\n",
      "    D.pop(k[,d]) -> v, remove specified key and return the corresponding value.\n",
      "    If key is not found, d is returned if given, otherwise KeyError is raised\n",
      "\n"
     ]
    }
   ],
   "source": [
    "help(dict.pop)"
   ]
  },
  {
   "cell_type": "code",
   "execution_count": 32,
   "metadata": {},
   "outputs": [
    {
     "data": {
      "text/plain": [
       "'MKSSH'"
      ]
     },
     "execution_count": 32,
     "metadata": {},
     "output_type": "execute_result"
    }
   ],
   "source": [
    "port1.pop(642)"
   ]
  },
  {
   "cell_type": "code",
   "execution_count": 33,
   "metadata": {},
   "outputs": [
    {
     "name": "stdout",
     "output_type": "stream",
     "text": [
      "{20: 'FTP', 21: 'FTP', 23: 'Telnet', 80: 'Web Portocol', 52: 'DNS', 22: 'SSH', 67: 'TFTP'}\n"
     ]
    }
   ],
   "source": [
    "print(port1)"
   ]
  },
  {
   "cell_type": "code",
   "execution_count": 34,
   "metadata": {
    "scrolled": true
   },
   "outputs": [
    {
     "name": "stdout",
     "output_type": "stream",
     "text": [
      "{20: 'FTP', 21: 'FTP', 23: 'Telnet', 80: 'Web Portocol', 52: 'DNS', 22: 'SSH', 67: 'TFTP'}\n",
      "{20: 'FTP', 21: 'FTP', 23: 'Telnet', 80: 'Web Portocol', 52: 'DNS', 22: 'SSH', 67: 'TFTP', 443: 'HTTPS', 3306: 'MySQL'}\n"
     ]
    }
   ],
   "source": [
    "print(port1)\n",
    "port2 = {443:\"HTTPS\", 3306:\"MySQL\"}\n",
    "port1.update(port2)\n",
    "print(port1)"
   ]
  },
  {
   "cell_type": "code",
   "execution_count": 35,
   "metadata": {},
   "outputs": [
    {
     "data": {
      "text/plain": [
       "dict_keys([20, 21, 23, 80, 52, 22, 67, 443, 3306])"
      ]
     },
     "execution_count": 35,
     "metadata": {},
     "output_type": "execute_result"
    }
   ],
   "source": [
    "port1.keys()"
   ]
  },
  {
   "cell_type": "code",
   "execution_count": 37,
   "metadata": {},
   "outputs": [
    {
     "name": "stdout",
     "output_type": "stream",
     "text": [
      "(20, 'FTP')\n",
      "(21, 'FTP')\n",
      "(23, 'Telnet')\n",
      "(80, 'Web Portocol')\n",
      "(52, 'DNS')\n",
      "(22, 'SSH')\n",
      "(67, 'TFTP')\n",
      "(443, 'HTTPS')\n",
      "(3306, 'MySQL')\n",
      "48\n"
     ]
    }
   ],
   "source": [
    "import sys\n",
    "for i in port1.items():\n",
    "    print(i)\n",
    "print(sys.getsizeof(port1.items()))"
   ]
  },
  {
   "cell_type": "code",
   "execution_count": 39,
   "metadata": {},
   "outputs": [
    {
     "name": "stdout",
     "output_type": "stream",
     "text": [
      "20 FTP\n",
      "21 FTP\n",
      "23 Telnet\n",
      "80 Web Portocol\n",
      "52 DNS\n",
      "22 SSH\n",
      "67 TFTP\n",
      "443 HTTPS\n",
      "3306 MySQL\n"
     ]
    }
   ],
   "source": [
    "#for i in port1.items():\n",
    "for k,v in port1.items():\n",
    "    #k,v=i\n",
    "    print(k,v)"
   ]
  },
  {
   "cell_type": "code",
   "execution_count": 42,
   "metadata": {},
   "outputs": [
    {
     "name": "stdout",
     "output_type": "stream",
     "text": [
      "dict_values(['FTP', 'FTP', 'Telnet', 'Web Portocol', 'DNS', 'SSH', 'TFTP', 'HTTPS', 'MySQL'])\n",
      "dict_keys([20, 21, 23, 80, 52, 22, 67, 443, 3306])\n",
      "dict_items([(20, 'FTP'), (21, 'FTP'), (23, 'Telnet'), (80, 'Web Portocol'), (52, 'DNS'), (22, 'SSH'), (67, 'TFTP'), (443, 'HTTPS'), (3306, 'MySQL')])\n"
     ]
    }
   ],
   "source": [
    "print(port1.values())\n",
    "print(port1.keys())\n",
    "print(port1.items())"
   ]
  },
  {
   "cell_type": "code",
   "execution_count": 43,
   "metadata": {},
   "outputs": [
    {
     "name": "stdout",
     "output_type": "stream",
     "text": [
      "20 FTP\n",
      "21 FTP\n",
      "23 Telnet\n",
      "80 Web Portocol\n"
     ]
    },
    {
     "ename": "RuntimeError",
     "evalue": "dictionary changed size during iteration",
     "output_type": "error",
     "traceback": [
      "\u001b[1;31m---------------------------------------------------------------------------\u001b[0m",
      "\u001b[1;31mRuntimeError\u001b[0m                              Traceback (most recent call last)",
      "\u001b[1;32m<ipython-input-43-5e6834f4cb48>\u001b[0m in \u001b[0;36m<module>\u001b[1;34m\u001b[0m\n\u001b[1;32m----> 1\u001b[1;33m \u001b[1;32mfor\u001b[0m \u001b[0mk\u001b[0m\u001b[1;33m,\u001b[0m\u001b[0mv\u001b[0m \u001b[1;32min\u001b[0m \u001b[0mport1\u001b[0m\u001b[1;33m.\u001b[0m\u001b[0mitems\u001b[0m\u001b[1;33m(\u001b[0m\u001b[1;33m)\u001b[0m\u001b[1;33m:\u001b[0m\u001b[1;33m\u001b[0m\u001b[1;33m\u001b[0m\u001b[0m\n\u001b[0m\u001b[0;32m      2\u001b[0m     \u001b[1;32mif\u001b[0m \u001b[0mk\u001b[0m \u001b[1;33m==\u001b[0m \u001b[1;36m80\u001b[0m\u001b[1;33m:\u001b[0m\u001b[1;33m\u001b[0m\u001b[1;33m\u001b[0m\u001b[0m\n\u001b[0;32m      3\u001b[0m         \u001b[1;32mdel\u001b[0m \u001b[0mport1\u001b[0m\u001b[1;33m[\u001b[0m\u001b[0mk\u001b[0m\u001b[1;33m]\u001b[0m\u001b[1;33m\u001b[0m\u001b[1;33m\u001b[0m\u001b[0m\n\u001b[0;32m      4\u001b[0m     \u001b[0mprint\u001b[0m\u001b[1;33m(\u001b[0m\u001b[0mk\u001b[0m\u001b[1;33m,\u001b[0m\u001b[0mv\u001b[0m\u001b[1;33m)\u001b[0m\u001b[1;33m\u001b[0m\u001b[1;33m\u001b[0m\u001b[0m\n",
      "\u001b[1;31mRuntimeError\u001b[0m: dictionary changed size during iteration"
     ]
    }
   ],
   "source": [
    "## \n",
    "for k,v in port1.items():\n",
    "    if k == 80:\n",
    "        del port1[k]\n",
    "    print(k,v)"
   ]
  },
  {
   "cell_type": "code",
   "execution_count": 44,
   "metadata": {},
   "outputs": [
    {
     "name": "stdout",
     "output_type": "stream",
     "text": [
      "{'a': 1, 'b': 2, 'k': 3}\n"
     ]
    }
   ],
   "source": [
    "list1 = [(\"a\",1),(\"b\",2),[\"k\",3]]\n",
    "print(dict(list1))"
   ]
  },
  {
   "cell_type": "code",
   "execution_count": 45,
   "metadata": {},
   "outputs": [
    {
     "name": "stdout",
     "output_type": "stream",
     "text": [
      "{1: 'A', 2: 'B', 3: 'C', 4: 'D', 5: 'E'}\n"
     ]
    }
   ],
   "source": [
    "list1 = [1,2,3,4,5, 6,7,8]\n",
    "list2=[\"A\",\"B\", \"C\",\"D\",\"E\"]\n",
    "len1 = min(len(list1), len(list2))\n",
    "dict1={}\n",
    "for each in range(len1):\n",
    "    dict1[list1[each]] = list2[each]\n",
    "print(dict1)"
   ]
  },
  {
   "cell_type": "code",
   "execution_count": 47,
   "metadata": {},
   "outputs": [
    {
     "name": "stdout",
     "output_type": "stream",
     "text": [
      "[1, 4, 9, 16, 25, 36]\n",
      "[4, 16, 36]\n"
     ]
    }
   ],
   "source": [
    "## List Comperhansion\n",
    "list1 = [1,2,3,4,5,6]\n",
    "print([each**2 for each in list1])\n",
    "print([each**2 for each in list1 if each%2==0])"
   ]
  },
  {
   "cell_type": "code",
   "execution_count": 53,
   "metadata": {},
   "outputs": [
    {
     "name": "stdout",
     "output_type": "stream",
     "text": [
      "['21', '23', '08']\n"
     ]
    }
   ],
   "source": [
    "list1=[\"2020-10-21\", \"2019-10-23\", \"2018-12-08\"]\n",
    "list2=[]\n",
    "print([each.split(\"-\")[-1] for each in list1])\n"
   ]
  },
  {
   "cell_type": "code",
   "execution_count": 54,
   "metadata": {},
   "outputs": [],
   "source": [
    "list1 = [1,2,3,4,5, 6,7,8]\n",
    "list2=[\"A\",\"B\", \"C\",\"D\",\"E\"]"
   ]
  },
  {
   "cell_type": "code",
   "execution_count": 55,
   "metadata": {},
   "outputs": [
    {
     "name": "stdout",
     "output_type": "stream",
     "text": [
      "[(1, 'A'), (2, 'B'), (3, 'C'), (4, 'D'), (5, 'E')]\n"
     ]
    }
   ],
   "source": [
    "print(list(zip(list1,list2)))"
   ]
  },
  {
   "cell_type": "code",
   "execution_count": null,
   "metadata": {},
   "outputs": [],
   "source": []
  },
  {
   "cell_type": "markdown",
   "metadata": {},
   "source": [
    "### ASsignment\n",
    "list1 = [1,2,3,4,5, 6,7,8]\n",
    "list2=[\"A\",\"B\", \"C\",\"D\",\"E\"]\n",
    "#### convet to a dic one line using list comperhension without using zip method\n",
    "\n"
   ]
  },
  {
   "cell_type": "code",
   "execution_count": null,
   "metadata": {},
   "outputs": [],
   "source": []
  },
  {
   "cell_type": "code",
   "execution_count": null,
   "metadata": {},
   "outputs": [],
   "source": []
  },
  {
   "cell_type": "code",
   "execution_count": 58,
   "metadata": {},
   "outputs": [
    {
     "name": "stdout",
     "output_type": "stream",
     "text": [
      "Enter the number k\n"
     ]
    },
    {
     "ename": "ValueError",
     "evalue": "invalid literal for int() with base 10: 'k'",
     "output_type": "error",
     "traceback": [
      "\u001b[1;31m---------------------------------------------------------------------------\u001b[0m",
      "\u001b[1;31mValueError\u001b[0m                                Traceback (most recent call last)",
      "\u001b[1;32m<ipython-input-58-c58c4e5d6e84>\u001b[0m in \u001b[0;36m<module>\u001b[1;34m\u001b[0m\n\u001b[1;32m----> 1\u001b[1;33m \u001b[0mval\u001b[0m \u001b[1;33m=\u001b[0m \u001b[0mint\u001b[0m\u001b[1;33m(\u001b[0m\u001b[0minput\u001b[0m\u001b[1;33m(\u001b[0m\u001b[1;34m\"Enter the number \"\u001b[0m\u001b[1;33m)\u001b[0m\u001b[1;33m)\u001b[0m\u001b[1;33m\u001b[0m\u001b[1;33m\u001b[0m\u001b[0m\n\u001b[0m\u001b[0;32m      2\u001b[0m \u001b[0md1\u001b[0m \u001b[1;33m=\u001b[0m \u001b[1;36m100\u001b[0m\u001b[1;33m\u001b[0m\u001b[1;33m\u001b[0m\u001b[0m\n\u001b[0;32m      3\u001b[0m \u001b[0mc\u001b[0m\u001b[1;33m=\u001b[0m\u001b[0md1\u001b[0m\u001b[1;33m/\u001b[0m\u001b[0mval\u001b[0m\u001b[1;33m\u001b[0m\u001b[1;33m\u001b[0m\u001b[0m\n\u001b[0;32m      4\u001b[0m \u001b[0mprint\u001b[0m\u001b[1;33m(\u001b[0m\u001b[0mc\u001b[0m\u001b[1;33m)\u001b[0m\u001b[1;33m\u001b[0m\u001b[1;33m\u001b[0m\u001b[0m\n",
      "\u001b[1;31mValueError\u001b[0m: invalid literal for int() with base 10: 'k'"
     ]
    }
   ],
   "source": [
    "val = int(input(\"Enter the number \"))\n",
    "d1 = 100\n",
    "c=d1/val\n",
    "print(c)\n",
    "## ValueError : string enter\n",
    "## KeyError : zero divide"
   ]
  },
  {
   "cell_type": "code",
   "execution_count": 61,
   "metadata": {},
   "outputs": [
    {
     "name": "stdout",
     "output_type": "stream",
     "text": [
      "Enter the number t\n",
      "Error\n",
      "Done\n"
     ]
    }
   ],
   "source": [
    "try:\n",
    "    val = int(input(\"Enter the number \"))\n",
    "    d1 = 100\n",
    "    c=d1/val\n",
    "    print(c)\n",
    "except:\n",
    "    print('Error')\n",
    "print(\"Done\")"
   ]
  },
  {
   "cell_type": "code",
   "execution_count": 64,
   "metadata": {},
   "outputs": [
    {
     "name": "stdout",
     "output_type": "stream",
     "text": [
      "Enter the number 454781.1454\n",
      "Please use int only\n",
      "Done\n"
     ]
    }
   ],
   "source": [
    "try:\n",
    "    val = int(input(\"Enter the number \"))\n",
    "    d1 = 100\n",
    "    c=d1/val\n",
    "    print(c)\n",
    "except ValueError:\n",
    "    print('Please use int only')\n",
    "except ZeroDivisionError:\n",
    "    print(\"Don't use 0\")\n",
    "except :\n",
    "    print(\"Unknown Error\")\n",
    "print(\"Done\")"
   ]
  },
  {
   "cell_type": "code",
   "execution_count": 68,
   "metadata": {},
   "outputs": [
    {
     "name": "stdout",
     "output_type": "stream",
     "text": [
      "Enter the number k\n",
      "invalid literal for int() with base 10: 'k'\n",
      "Done\n"
     ]
    }
   ],
   "source": [
    "### Standard Code\n",
    "try:\n",
    "    val = int(input(\"Enter the number \"))\n",
    "    d1 = 100\n",
    "    c=d1/val\n",
    "    print(c)\n",
    "except Exception as e:\n",
    "    print(e)\n",
    "\n",
    "print(\"Done\")"
   ]
  },
  {
   "cell_type": "code",
   "execution_count": 70,
   "metadata": {},
   "outputs": [
    {
     "name": "stdout",
     "output_type": "stream",
     "text": [
      "Enter the number 0\n",
      "division by zero\n",
      "Done\n"
     ]
    }
   ],
   "source": [
    "### Standard Code\n",
    "try:\n",
    "    val = int(input(\"Enter the number \"))\n",
    "    d1 = 100\n",
    "    c=d1/val\n",
    "    print(c)\n",
    "except Exception as e:\n",
    "    print(e)\n",
    "else:\n",
    "    print(\"No Error Occurred\")\n",
    "#'Else' run only when try block run successfully\n",
    "finally:\n",
    "    print(\"Finished\")\n",
    "#'Finally' runs when tour try except code error finish\n",
    "print(\"Done\")"
   ]
  },
  {
   "cell_type": "code",
   "execution_count": null,
   "metadata": {},
   "outputs": [],
   "source": []
  },
  {
   "cell_type": "code",
   "execution_count": null,
   "metadata": {},
   "outputs": [],
   "source": []
  },
  {
   "cell_type": "code",
   "execution_count": null,
   "metadata": {},
   "outputs": [],
   "source": []
  }
 ],
 "metadata": {
  "kernelspec": {
   "display_name": "Python 3",
   "language": "python",
   "name": "python3"
  },
  "language_info": {
   "codemirror_mode": {
    "name": "ipython",
    "version": 3
   },
   "file_extension": ".py",
   "mimetype": "text/x-python",
   "name": "python",
   "nbconvert_exporter": "python",
   "pygments_lexer": "ipython3",
   "version": "3.7.4"
  }
 },
 "nbformat": 4,
 "nbformat_minor": 2
}
