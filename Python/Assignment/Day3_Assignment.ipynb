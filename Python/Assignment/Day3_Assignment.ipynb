{
 "cells": [
  {
   "cell_type": "markdown",
   "metadata": {},
   "source": [
    "## Sum of N number using While Loop"
   ]
  },
  {
   "cell_type": "code",
   "execution_count": 1,
   "metadata": {},
   "outputs": [
    {
     "name": "stdout",
     "output_type": "stream",
     "text": [
      "Enter the Number 5\n",
      "The sum is 15\n"
     ]
    }
   ],
   "source": [
    "num = int(input(\"Enter the Number \"))\n",
    "if num < 0:\n",
    "    print(\"Enter a positive number\")\n",
    "else:\n",
    "    sum2 = 0\n",
    "    while(num > 0):\n",
    "        sum2 += num\n",
    "        num -= 1\n",
    "print(\"The sum is\", sum2)"
   ]
  },
  {
   "cell_type": "markdown",
   "metadata": {},
   "source": [
    "## Find given number is Prime or non prime number"
   ]
  },
  {
   "cell_type": "code",
   "execution_count": 2,
   "metadata": {},
   "outputs": [
    {
     "name": "stdout",
     "output_type": "stream",
     "text": [
      "Enter the value 10\n",
      "10 is not a prime number\n"
     ]
    }
   ],
   "source": [
    "num = int(input(\"Enter the value \"))\n",
    "\n",
    "if num == 1 or num ==0:\n",
    "    print(num, \"is neither a prime number nor a composite number.\")\n",
    "else:\n",
    "    for i in range(2, num):\n",
    "        if (num % i) == 0: \n",
    "            print(num, \"is not a prime number\") \n",
    "            break\n",
    "    else:\n",
    "        print(num, \"is a prime number\")  "
   ]
  },
  {
   "cell_type": "code",
   "execution_count": 3,
   "metadata": {},
   "outputs": [
    {
     "name": "stdout",
     "output_type": "stream",
     "text": [
      "Enter the value of range lower limit 0\n",
      "Enter the value of range upper limit 10\n",
      "0 is neither a prime number nor a composite number.\n",
      "1 is neither a prime number nor a composite number.\n",
      "2 is a prime number\n",
      "3 is a prime number\n",
      "4 is not a prime number\n",
      "5 is a prime number\n",
      "6 is not a prime number\n",
      "7 is a prime number\n",
      "8 is not a prime number\n",
      "9 is not a prime number\n",
      "10 is not a prime number\n"
     ]
    }
   ],
   "source": [
    "lower_limit = int(input(\"Enter the value of range lower limit \"))\n",
    "upper_limit = int(input(\"Enter the value of range upper limit \"))\n",
    "\n",
    "num2 = list(range(lower_limit, upper_limit+1))\n",
    "\n",
    "for i in num2:\n",
    "    if i == 1 or i ==0:\n",
    "        print(i, \"is neither a prime number nor a composite number.\")\n",
    "    else:\n",
    "        for p in range(2, i):\n",
    "            if (i % p) == 0: \n",
    "                print(i, \"is not a prime number\") \n",
    "                break\n",
    "        else:\n",
    "            print(i, \"is a prime number\") "
   ]
  }
 ],
 "metadata": {
  "kernelspec": {
   "display_name": "Python 3",
   "language": "python",
   "name": "python3"
  },
  "language_info": {
   "codemirror_mode": {
    "name": "ipython",
    "version": 3
   },
   "file_extension": ".py",
   "mimetype": "text/x-python",
   "name": "python",
   "nbconvert_exporter": "python",
   "pygments_lexer": "ipython3",
   "version": "3.7.4"
  }
 },
 "nbformat": 4,
 "nbformat_minor": 2
}
