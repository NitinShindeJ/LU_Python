{
 "cells": [
  {
   "cell_type": "code",
   "execution_count": null,
   "metadata": {},
   "outputs": [],
   "source": [
    "a1 = [0,1,2,10,4,1,0,56,2,0,1,3,0,56,0,4]\n",
    "#sort increasing order but all zeros should be at right hand side\n",
    "\n",
    "a2 = [10,20,30,40,60,70,80]\n",
    "#sort list\n",
    "a3 = [5,15,25,35,45,60]\n",
    "#sort lsit\n",
    "#merge a2 & a3 but use one loop either while or for only one time, & prduce one sorted list"
   ]
  },
  {
   "cell_type": "code",
   "execution_count": 3,
   "metadata": {},
   "outputs": [
    {
     "name": "stdout",
     "output_type": "stream",
     "text": [
      "[1, 1, 1, 2, 2, 3, 4, 4, 10, 56, 56, 0, 0, 0, 0, 0]\n"
     ]
    }
   ],
   "source": [
    "a1 = [0,1,2,10,4,1,0,56,2,0,1,3,0,56,0,4]\n",
    "a2 = []\n",
    "for i in a1:\n",
    "    if i == 0.0:\n",
    "        a2.append(i)\n",
    "        a1.remove(i)\n",
    "    else:\n",
    "        continue\n",
    "a1.sort()\n",
    "a1.extend(a2)\n",
    "\n",
    "print(a1)"
   ]
  },
  {
   "cell_type": "code",
   "execution_count": 8,
   "metadata": {},
   "outputs": [
    {
     "name": "stdout",
     "output_type": "stream",
     "text": [
      "[10, 20, 30, 40, 60, 70, 80] [5, 15, 25, 35, 45, 60]\n"
     ]
    }
   ],
   "source": [
    "a2 = [10,20,30,40,60,70,80]\n",
    "a3 = [5,15,25,35,45,60]\n",
    "print(a2,a3)"
   ]
  },
  {
   "cell_type": "code",
   "execution_count": 9,
   "metadata": {},
   "outputs": [
    {
     "data": {
      "text/plain": [
       "[5, 10, 15, 20, 25, 30, 35, 40, 45, 60, 60, 70, 80]"
      ]
     },
     "execution_count": 9,
     "metadata": {},
     "output_type": "execute_result"
    }
   ],
   "source": [
    "for i in a2:\n",
    "    a3.append(i)\n",
    "a3.sort()\n",
    "a3"
   ]
  },
  {
   "cell_type": "code",
   "execution_count": null,
   "metadata": {},
   "outputs": [],
   "source": []
  }
 ],
 "metadata": {
  "kernelspec": {
   "display_name": "Python 3",
   "language": "python",
   "name": "python3"
  },
  "language_info": {
   "codemirror_mode": {
    "name": "ipython",
    "version": 3
   },
   "file_extension": ".py",
   "mimetype": "text/x-python",
   "name": "python",
   "nbconvert_exporter": "python",
   "pygments_lexer": "ipython3",
   "version": "3.7.4"
  }
 },
 "nbformat": 4,
 "nbformat_minor": 2
}
