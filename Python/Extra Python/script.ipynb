{
 "cells": [
  {
   "cell_type": "code",
   "execution_count": 3,
   "metadata": {},
   "outputs": [
    {
     "name": "stdout",
     "output_type": "stream",
     "text": [
      "Happy Birthday/new\n"
     ]
    }
   ],
   "source": [
    "print('Happy Birthday/new')"
   ]
  },
  {
   "cell_type": "markdown",
   "metadata": {
    "_uuid": "3cc4345d3975a3fc2007cca29c87af815cf1cae8"
   },
   "source": [
    "<img src='http://www.shsatprep.com/images/SHSATPrepLogo.jpg'/>"
   ]
  },
  {
   "cell_type": "markdown",
   "metadata": {
    "_uuid": "4d0aacc96fa1e216d92cc349c2593065c6f96f1d"
   },
   "source": [
    "## Table of Contents\n",
    "### New York Schools Content:\n",
    "\n",
    "[Geographical Student Race Distribution of New York](#map_of_newyork)\n",
    "\n",
    "[Asian/White Student Geospatial Distribution](#asian_white_geomap)\n",
    "\n",
    "[Black/Hispanic Student Geospatial Distribution](#black_hispanic_geomap)\n",
    "\n",
    "[School Income Distribution](#school_income)\n",
    "\n",
    "### Community and Non Community Schools Content:\n",
    "[Community VS Non-Community Schools](#community_vs_noncommunity)\n",
    "\n",
    "[Economic Need Index Comparison: Community VS Non-Community Schools](#economic_need)\n",
    "\n",
    "[Average School Income Comparison: Community VS Non-Community Schools](#avg_school_income_comparison)\n",
    "\n",
    "### SHSAT Registration Content:\n",
    "\n",
    "[SHSAT Registration Count Distribution Per School](#registration_count)\n",
    "\n",
    "[SHSAT Registration Per Year (2014-2016)](#registration_per_year)\n",
    "\n",
    "\n"
   ]
  },
  {
   "cell_type": "markdown",
   "metadata": {
    "_uuid": "c33dfd08b79b1a0b4f11dcd059608051913f9439"
   },
   "source": [
    "<img src='http://gifimage.net/wp-content/uploads/2017/09/anime-study-gif-9.gif'/>"
   ]
  },
  {
   "cell_type": "markdown",
   "metadata": {
    "_uuid": "4e52bad30b926c670bd5683ce1f4592bc56648de"
   },
   "source": [
    "# The Problem\n",
    "***\n",
    "\n",
    "**Source:** https://www.nytimes.com/2018/06/21/nyregion/what-is-the-shsat-exam-and-why-does-it-matter.html \n",
    "\n",
    "1. **Low Number of Black and Latino Students** in specialized High Schools.\n",
    "2. Only 10% of New York City's public school students are black/latino received offers, even though 67% of public students are black/latino\n",
    "3. Asians make up **62%** of students at specialized high schools, even though 16% of public students are asian\n",
    "4. Whites make up **24%** of students at specialized highs schools, even though 15% of public students are white\n",
    "\n",
    "\n"
   ]
  },
  {
   "cell_type": "markdown",
   "metadata": {
    "_uuid": "54feb054b996a344a89191da259a8a5562ec3b26"
   },
   "source": [
    "# Exploratory Data Analysis of New York Schools\n",
    "***"
   ]
  },
  {
   "cell_type": "code",
   "execution_count": null,
   "metadata": {
    "_uuid": "bfa81dee8240eded5c832123ae60313fe6467e38",
    "collapsed": true
   },
   "outputs": [],
   "source": [
    "# Import the neccessary modules for data manipulation and visual representation\n",
    "import pandas as pd\n",
    "import numpy as np\n",
    "import matplotlib.pyplot as plt\n",
    "import matplotlib as matplot\n",
    "import seaborn as sns\n",
    "%matplotlib inline"
   ]
  },
  {
   "cell_type": "code",
   "execution_count": null,
   "metadata": {
    "_uuid": "b5024567ac4ccad11a08ad349d4202896da6fd11",
    "collapsed": true
   },
   "outputs": [],
   "source": [
    "\n",
    "pd.set_option('display.max_columns', None)  \n",
    "df = pd.read_csv('../input/2016 School Explorer.csv')\n",
    "registrations = pd.read_csv('../input/D5 SHSAT Registrations and Testers.csv')"
   ]
  },
  {
   "cell_type": "code",
   "execution_count": null,
   "metadata": {
    "_uuid": "6a8c5d098647004eb9db3e2e0d08d38de20e9736",
    "collapsed": true,
    "scrolled": true
   },
   "outputs": [],
   "source": [
    "df.head(3)"
   ]
  },
  {
   "cell_type": "code",
   "execution_count": null,
   "metadata": {
    "_uuid": "46b94966a6ed3c5f824a6eaaea6f43aa922edd97",
    "collapsed": true
   },
   "outputs": [],
   "source": [
    "# There are 1272 schools in the data set\n",
    "df.shape"
   ]
  },
  {
   "cell_type": "markdown",
   "metadata": {
    "_uuid": "6fdfb28061d21c587fa0b45e33bb2e273bd23f95"
   },
   "source": [
    "<a id='map_of_newyork'></a>\n",
    "# Map of New York\n",
    "***"
   ]
  },
  {
   "cell_type": "markdown",
   "metadata": {
    "_uuid": "a0467dc99aea47c4fc491ab3cc3f19f050de3c43"
   },
   "source": [
    "<img src='https://upload.wikimedia.org/wikipedia/commons/thumb/3/3d/Map_of_New_York_Economic_Regions.svg/2000px-Map_of_New_York_Economic_Regions.svg.png'/>"
   ]
  },
  {
   "cell_type": "markdown",
   "metadata": {
    "_uuid": "34f926f6c992f89d9064b0da6de4a4b56ce91b9f"
   },
   "source": [
    "# New York Map of Economic Need Index Distribution\n",
    "***"
   ]
  },
  {
   "cell_type": "markdown",
   "metadata": {
    "_uuid": "177bdd508a95dfdedecbbfbeeeec4fec91854b75"
   },
   "source": [
    "The **more red** a school means the **higher economic need**\n",
    "\n",
    "The **more blue** a school means the **less economic need**\n",
    "\n",
    "### Upper and Central New York Needs More Help\n",
    "Schools that are located in the **Upper and Central New York Area** have a **higher** economic need"
   ]
  },
  {
   "cell_type": "code",
   "execution_count": null,
   "metadata": {
    "_uuid": "3c7faf3f81998577656994bbf10030be6140e7e1",
    "collapsed": true
   },
   "outputs": [],
   "source": [
    "df['School Income Estimate'] = df['School Income Estimate'].str.replace(',', '')\n",
    "df['School Income Estimate'] = df['School Income Estimate'].str.replace('$', '')\n",
    "df['School Income Estimate'] = df['School Income Estimate'].str.replace(' ', '')\n",
    "df['School Income Estimate'] = df['School Income Estimate'].astype(float)"
   ]
  },
  {
   "cell_type": "code",
   "execution_count": null,
   "metadata": {
    "_uuid": "a7f516771cda79dc96c3d5049b1eaa32cddd9f4d",
    "collapsed": true,
    "scrolled": true
   },
   "outputs": [],
   "source": [
    "df.plot(kind=\"scatter\", x=\"Longitude\", y=\"Latitude\",\n",
    "    s=df['School Income Estimate']/1210, c=\"Economic Need Index\", cmap=plt.get_cmap(\"jet\"),label='Schools', title='New York School Population Map',\n",
    "    colorbar=True, alpha=0.4, figsize=(15,9))\n",
    "plt.legend()\n",
    "plt.show()"
   ]
  },
  {
   "cell_type": "markdown",
   "metadata": {
    "_uuid": "b56945cae19eeec008782bd482f6af5eac67816d"
   },
   "source": [
    "<a id='black_hispanic_geomap'></a>\n",
    "# New York Map of Black/Hispanic Percentage of Schools\n",
    "***"
   ]
  },
  {
   "cell_type": "markdown",
   "metadata": {
    "_uuid": "f555e64c3aa4b591fb44bf7ae56348173d8c7df5"
   },
   "source": [
    "### Central New York contains most of the Schools with Blacks\n",
    "Majority of the **black** population are living in **Central New York**. If you compare this to the Hispanic Population, they are totally isolated from each other. \n",
    "\n",
    "### Upper New York contains most of the Schools with Hispanics\n",
    "Majority of the **hispanic** population are living in **Upper New York**. Again, notice how there are a few Hispanics in Central New York while there are a majority of Blacks in Central New York."
   ]
  },
  {
   "cell_type": "code",
   "execution_count": null,
   "metadata": {
    "_uuid": "f1b01e27834e535529aef0a6edc3fea43ae9f9c1",
    "collapsed": true
   },
   "outputs": [],
   "source": [
    "# Create a function to convert the percentage to a fraction \n",
    "def p2f(x):\n",
    "    return float(x.strip('%'))/100"
   ]
  },
  {
   "cell_type": "code",
   "execution_count": null,
   "metadata": {
    "_uuid": "0828b27c9943d9c55d7ed0edf79273629516a367",
    "collapsed": true
   },
   "outputs": [],
   "source": [
    "df['Percent Asian'] = df['Percent Asian'].apply(p2f)\n",
    "df['Percent Black'] = df['Percent Black'].apply(p2f)\n",
    "df['Percent Hispanic'] = df['Percent Hispanic'].apply(p2f)\n",
    "df['Percent White'] = df['Percent White'].apply(p2f)\n",
    "df['Percent Black / Hispanic'] = df['Percent Black / Hispanic'].apply(p2f)"
   ]
  },
  {
   "cell_type": "code",
   "execution_count": null,
   "metadata": {
    "_uuid": "7c1508ad2ca2cddbbee37b094bc919748fa53eb2",
    "collapsed": true
   },
   "outputs": [],
   "source": [
    "# Set up the matplotlib figure\n",
    "f, axes = plt.subplots(ncols=2, figsize=(15, 6))\n",
    "\n",
    "df.plot(kind=\"scatter\", x=\"Longitude\", y=\"Latitude\", ax=axes[0],\n",
    "    s=df['Economic Need Index']*100, c=\"Percent Black\", cmap=plt.get_cmap(\"jet\"),label='Schools', title='Black Population Percentage of Schools',\n",
    "    colorbar=True, alpha=0.3, figsize=(15,7))\n",
    "\n",
    "df.plot(kind=\"scatter\", x=\"Longitude\", y=\"Latitude\", ax=axes[1],\n",
    "    s=df['Economic Need Index']*100, c=\"Percent Hispanic\", cmap=plt.get_cmap(\"jet\"),label='Schools', title='Hispanic Population Percentage of Schools',\n",
    "    colorbar=True, alpha=0.3, figsize=(15,7))\n",
    "\n",
    "plt.legend()\n",
    "plt.show()"
   ]
  },
  {
   "cell_type": "markdown",
   "metadata": {
    "_uuid": "ced5f9ac67faeba66a68a092bc479dc7ee0ee947"
   },
   "source": [
    "<a id='asian_white_geomap'></a>\n",
    "# New York Map of Asian/White Percentage of Schools"
   ]
  },
  {
   "cell_type": "markdown",
   "metadata": {
    "_uuid": "49d10c55f01f40da8f7b2d5c903bc7428e1fdfe6"
   },
   "source": [
    "The **Asian** population are mostly living in Central New York.\n",
    "\n",
    "The **White** Population has a very noticeable cluster near the **edge and lower** parts of New York."
   ]
  },
  {
   "cell_type": "code",
   "execution_count": null,
   "metadata": {
    "_uuid": "62156792ff78ed8046d8eac8dda074e90387b648",
    "collapsed": true,
    "scrolled": true
   },
   "outputs": [],
   "source": [
    "# Set up the matplotlib figure\n",
    "f, axes = plt.subplots(ncols=2, figsize=(15, 6))\n",
    "\n",
    "df.plot(kind=\"scatter\", x=\"Longitude\", y=\"Latitude\", ax=axes[0],\n",
    "    s=df['Economic Need Index']*100, c=\"Percent Asian\", label='Schools', title='Asian Population Percentage of Schools',\n",
    "    colorbar=True, alpha=0.3, figsize=(15,5))\n",
    "\n",
    "df.plot(kind=\"scatter\", x=\"Longitude\", y=\"Latitude\", ax=axes[1],\n",
    "    s=df['Economic Need Index']*130, c=\"Percent White\", label='Schools', title='White Population Percentage of Schools',\n",
    "    colorbar=True, alpha=1, figsize=(15,5))\n",
    "\n",
    "plt.legend()\n",
    "plt.show()"
   ]
  },
  {
   "cell_type": "markdown",
   "metadata": {
    "_uuid": "12b63dd7a945c24c9ea04a56611212de236f9747"
   },
   "source": [
    "# Race Percentage Distribution from Schools\n",
    "***"
   ]
  },
  {
   "cell_type": "markdown",
   "metadata": {
    "_uuid": "1814b216a51762e118c3f28826729088ba542fa1"
   },
   "source": [
    "<img src='https://previews.123rf.com/images/lenm/lenm1701/lenm170100019/68453320-ilustraci%C3%B3n-de-un-grupo-diverso-de-preescolar-de-los-ni%C3%B1os-mediante-diferentes-herramientas-educativas-par.jpg'/>"
   ]
  },
  {
   "cell_type": "markdown",
   "metadata": {
    "_uuid": "6d5766590fc98af109bb78ea0dfb8de915456d1b"
   },
   "source": [
    "### White and Asian Distribution\n"
   ]
  },
  {
   "cell_type": "code",
   "execution_count": null,
   "metadata": {
    "_uuid": "a4e9f60218561e3e70d9a38c3008c5b520491af8",
    "collapsed": true,
    "scrolled": false
   },
   "outputs": [],
   "source": [
    "\n",
    "# Set up the matplotlib figure\n",
    "f, axes = plt.subplots(ncols=2, figsize=(15, 6))\n",
    "\n",
    "# Graph Employee Satisfaction\n",
    "sns.distplot(df['Percent Asian'], kde=False, color=\"g\", ax=axes[0], bins=25).set_title('% Asian Distribution')\n",
    "axes[0].set_ylabel('School Count')\n",
    "\n",
    "# Graph Employee Evaluation\n",
    "sns.distplot(df['Percent White'], kde=False, color=\"r\", ax=axes[1], bins=25).set_title('% White Distribution')\n",
    "axes[1].set_ylabel('Employee Count')"
   ]
  },
  {
   "cell_type": "markdown",
   "metadata": {
    "_uuid": "1f1bc7755d5df1c72d680a5f57aeb22f98a07819"
   },
   "source": [
    "### Blacks and Hispanics Distribution"
   ]
  },
  {
   "cell_type": "code",
   "execution_count": null,
   "metadata": {
    "_uuid": "815fa7ec2a5121123cb791819a475098b43f1ed1",
    "collapsed": true
   },
   "outputs": [],
   "source": [
    "# Set up the matplotlib figure\n",
    "f, axes = plt.subplots(ncols=2, figsize=(15, 6))\n",
    "\n",
    "# Graph Employee Average Monthly Hours\n",
    "sns.distplot(df['Percent Black'], kde=False, color=\"b\", ax=axes[0], bins=35).set_title('% Black Distribution')\n",
    "axes[0].set_ylabel('Employee Count')\n",
    "\n",
    "# Graph Employee Average Monthly Hours\n",
    "sns.distplot(df['Percent Hispanic'], kde=False, color=\"r\", ax=axes[1], bins=35).set_title('% Hispanic Distribution')\n",
    "axes[1].set_ylabel('Employee Count')\n"
   ]
  },
  {
   "cell_type": "markdown",
   "metadata": {
    "_uuid": "03bf55b5759659da2da24fe319511a27fa4e4f52"
   },
   "source": [
    "<a id='school_income'></a>\n",
    "# School Income Distribution\n",
    "***"
   ]
  },
  {
   "cell_type": "markdown",
   "metadata": {
    "_uuid": "57e775b7851fddd872df563bdae494d99807fbdc"
   },
   "source": [
    "<img src='https://media.giphy.com/media/l0MYResEdNIyniuL6/giphy.gif'/>"
   ]
  },
  {
   "cell_type": "markdown",
   "metadata": {
    "_uuid": "fc72a4f117fa6e0c1270e01a01d754d20fadbc48"
   },
   "source": [
    "### Interesting Find:\n",
    "- The lowest income for a school is **$16,901**\n",
    "\n",
    "- The highest income for a school is **$181,382**\n",
    "\n",
    "- The median income for the schools in New York is **$43,151**."
   ]
  },
  {
   "cell_type": "code",
   "execution_count": null,
   "metadata": {
    "_uuid": "fa84db95616c061a24e877879b7acb1a3870e000",
    "collapsed": true
   },
   "outputs": [],
   "source": [
    "#sns.distplot(df['School Income Estimate'])\n",
    "df['School Income Estimate'].describe()"
   ]
  },
  {
   "cell_type": "code",
   "execution_count": null,
   "metadata": {
    "_uuid": "b9aed5420a4be43cf373cbf172273631813b6c72",
    "collapsed": true
   },
   "outputs": [],
   "source": [
    "median = df['School Income Estimate'].median()\n",
    "df['School Income Estimate'] = df['School Income Estimate'].fillna(median)"
   ]
  },
  {
   "cell_type": "code",
   "execution_count": null,
   "metadata": {
    "_uuid": "f9d8804712a8d397ec8ccc66e1a3ba8d07543aad",
    "collapsed": true,
    "scrolled": false
   },
   "outputs": [],
   "source": [
    "df_income = df[df['School Income Estimate'] < 100000]\n",
    "sns.distplot(df_income['School Income Estimate'], bins=25)"
   ]
  },
  {
   "cell_type": "markdown",
   "metadata": {
    "_uuid": "91364500a39637b3d6209f6eafa061f01158f6f6"
   },
   "source": [
    "<a id='community_vs_noncommunity'></a>\n",
    "# Community VS Non-Community School Income\n",
    "***"
   ]
  },
  {
   "cell_type": "markdown",
   "metadata": {
    "_uuid": "94ab85ddc90293a77da4400f4cfeb9802cc8f431"
   },
   "source": [
    "**Community Schools:**\n",
    "- Has higher economic need index\n",
    "- Average School Income = **$38k**\n",
    "- Average % Black/Hispanic = **93%**\n",
    "\n",
    "**Not Community Schools:**\n",
    "- Has lower economic need index\n",
    "- Average School Income = **47k**\n",
    "- Average % Black/Hispanic = **70%**"
   ]
  },
  {
   "cell_type": "code",
   "execution_count": null,
   "metadata": {
    "_uuid": "d67b497c55af6055eb2056377545ce66a1a20516",
    "collapsed": true,
    "scrolled": true
   },
   "outputs": [],
   "source": [
    "# Overview of summary (Turnover V.S. Non-turnover)\n",
    "turnover_Summary = df.groupby('Community School?')\n",
    "turnover_Summary[['Economic Need Index', 'School Income Estimate', 'Percent Asian','Percent Black', 'Percent Hispanic', \n",
    "                  'Percent White', 'Average ELA Proficiency', 'Average Math Proficiency']].mean()"
   ]
  },
  {
   "cell_type": "markdown",
   "metadata": {
    "_uuid": "e857a67446910d1984ee11f1cd34d2a5fdabd82f"
   },
   "source": [
    "# School Income VS Economic Need Index\n",
    "***\n",
    "\n",
    "There is definitely a negative correlation between School Income and their Economic Need Index. It makes sense:\n",
    "- The less income you make the higher economic need index you'll get.\n",
    "- The more income you make the less economic need index you'll get."
   ]
  },
  {
   "cell_type": "code",
   "execution_count": null,
   "metadata": {
    "_uuid": "95b6c185ba53187fbb5badbf7e5b47083a658ee0",
    "collapsed": true,
    "scrolled": true
   },
   "outputs": [],
   "source": [
    "# Let's normalize the School Income Estimate to have better visualization\n",
    "from sklearn import preprocessing\n",
    "\n",
    "# Impute the missing Income with the median\n",
    "median = df['School Income Estimate'].median()\n",
    "df['School Income Estimate'] = df['School Income Estimate'].fillna(median)\n",
    "\n",
    "# Create x, where x the 'scores' column's values as floats\n",
    "x = df[['School Income Estimate']].values.astype(float)\n",
    "\n",
    "# Create a minimum and maximum processor object\n",
    "min_max_scaler = preprocessing.MinMaxScaler()\n",
    "\n",
    "# Create an object to transform the data to fit minmax processor\n",
    "x_scaled = min_max_scaler.fit_transform(x)\n",
    "\n",
    "# Run the normalizer on the dataframe\n",
    "school_income_normalized = pd.DataFrame(x_scaled)\n",
    "\n",
    "df['school_income_normalized'] = school_income_normalized"
   ]
  },
  {
   "cell_type": "code",
   "execution_count": null,
   "metadata": {
    "_uuid": "c7edaf965f3529a77591b0ce4f886078a718af01",
    "collapsed": true,
    "scrolled": true
   },
   "outputs": [],
   "source": [
    "sns.lmplot(x='school_income_normalized', y='Economic Need Index', data=df,\n",
    "           fit_reg=False) # No regression line\n",
    "        "
   ]
  },
  {
   "cell_type": "markdown",
   "metadata": {
    "_uuid": "95c38f39ca55bebaa64420674fee127a7b778249"
   },
   "source": [
    "<a id='avg_school_income_comparison'></a>\n",
    "# Average School Income Comparison\n",
    "***"
   ]
  },
  {
   "cell_type": "markdown",
   "metadata": {
    "_uuid": "bca56f19bd41a5cc6931bc81ccce72f18ca0e8fe"
   },
   "source": [
    "**Interesting Find:** Looks like the breaking point for school income of **Community Schools** are at around **$50k**\n",
    "\n",
    "**Interesting Find:** **Non Community Schools** receive an income up to **over $175k**!\n"
   ]
  },
  {
   "cell_type": "code",
   "execution_count": null,
   "metadata": {
    "_uuid": "e332dae4f8659a6a5ddf5f8bd512fd48eb085a80",
    "collapsed": true
   },
   "outputs": [],
   "source": [
    "#KDEPlot: Kernel Density Estimate Plot\n",
    "fig = plt.figure(figsize=(15,4))\n",
    "ax=sns.kdeplot(df.loc[(df['Community School?'] == 'Yes'),'School Income Estimate'] , color='b',shade=True, label='Community School')\n",
    "ax=sns.kdeplot(df.loc[(df['Community School?'] == 'No'),'School Income Estimate'] , color='r',shade=True, label='Not Community School')\n",
    "plt.title('Community School VS Not Community School Income')"
   ]
  },
  {
   "cell_type": "markdown",
   "metadata": {
    "_uuid": "80d20a390236de8612a505c68d7a969c5430eb2c"
   },
   "source": [
    "<a id='economic_need'></a>\n",
    "# Economic Need Index Distribution\n",
    "***\n",
    "\n",
    "**Interesting Find:**\n",
    "\n",
    "**Community Schools** definitely need more help and a majority of them are within the **Economic Need Index** of **90%**.\n",
    "\n",
    "**Non Community Schools** have a wide distribution of their Economic Need Index scores, having a majority at the **80%** score."
   ]
  },
  {
   "cell_type": "code",
   "execution_count": null,
   "metadata": {
    "_uuid": "fb415f343b9d261fa4febc6413670969f2b89a87",
    "collapsed": true
   },
   "outputs": [],
   "source": [
    "#KDEPlot: Kernel Density Estimate Plot\n",
    "fig = plt.figure(figsize=(15,4))\n",
    "ax=sns.kdeplot(df.loc[(df['Community School?'] == 'Yes'),'Economic Need Index'] , color='b',shade=True, label='Community School')\n",
    "ax=sns.kdeplot(df.loc[(df['Community School?'] == 'No'),'Economic Need Index'] , color='r',shade=True, label='Not Community School')\n",
    "plt.xlabel('Economic Need Index Score')\n",
    "plt.ylabel('Kernel Density Frequency')\n",
    "plt.title('Community School VS Not Community School Economic Need Index')"
   ]
  },
  {
   "cell_type": "markdown",
   "metadata": {
    "_uuid": "7a068a5aade5f927c75d39c60426a240c0f420aa"
   },
   "source": [
    "# SHSAT Registration EDA\n",
    "***"
   ]
  },
  {
   "cell_type": "code",
   "execution_count": null,
   "metadata": {
    "_uuid": "3c9b957f3cf35ad352c0ce336e0c5cea0864ccaf",
    "collapsed": true,
    "scrolled": true
   },
   "outputs": [],
   "source": [
    "registrations.head(3)"
   ]
  },
  {
   "cell_type": "markdown",
   "metadata": {
    "_uuid": "3ec2bbd431592cc488c94271fae034a1ded66b9c"
   },
   "source": [
    "# Total SHSAT Registration Count Per School (2013-2016)\n",
    "***\n",
    "\n",
    "**Interesting Find:**\n",
    "- The most registration for the SHSAT occurred in **2014** with a count of 838 registrations.\n",
    "- The top 3 schools that registered for the SHSAT were from **KIPP, Columbia Secondary School, and Democracy Prep**."
   ]
  },
  {
   "cell_type": "markdown",
   "metadata": {
    "_uuid": "895184f353306091d3131b89135314c8e874ccc2"
   },
   "source": [
    "<a id='registration_per_year'></a>\n",
    "### Total Registrations Per Year"
   ]
  },
  {
   "cell_type": "code",
   "execution_count": null,
   "metadata": {
    "_uuid": "def3fdc1481388300178baf7875ea6e9405a2caa",
    "collapsed": true
   },
   "outputs": [],
   "source": [
    "pd.DataFrame(registrations.groupby('Year of SHST')['Number of students who registered for the SHSAT'].sum())"
   ]
  },
  {
   "cell_type": "markdown",
   "metadata": {
    "_uuid": "88dab06eaf36f0f184e36e8982103b64aeaf59d5"
   },
   "source": [
    "### Top 10 Schools With The Most Registrations "
   ]
  },
  {
   "cell_type": "code",
   "execution_count": null,
   "metadata": {
    "_uuid": "f0c60eb10e08a31e129b9a275b6a34a011b4d2f2",
    "collapsed": true,
    "scrolled": true
   },
   "outputs": [],
   "source": [
    "school_registrations = registrations.groupby('School name')['Number of students who registered for the SHSAT'].sum().reset_index().sort_values('Number of students who registered for the SHSAT', ascending=False).reset_index(drop=True)\n",
    "school_registrations.head(10)"
   ]
  },
  {
   "cell_type": "markdown",
   "metadata": {
    "_uuid": "326445ea9a03c556bb33dc997d890dfae85876fc"
   },
   "source": [
    "<a id='registration_count'></a>\n",
    "# Registration Count Per School Distribution\n",
    "***"
   ]
  },
  {
   "cell_type": "code",
   "execution_count": null,
   "metadata": {
    "_uuid": "a3ea0f74b78c502f906c14cee361382695f6ffc3",
    "collapsed": true
   },
   "outputs": [],
   "source": [
    "f, ax = plt.subplots(figsize=(15, 10))\n",
    "\n",
    "#Get List of School Names\n",
    "school_names = list(school_registrations['School name'].values)\n",
    "\n",
    "y_pos = np.arange(len(school_registrations))\n",
    "# Create horizontal bars\n",
    "plt.barh(y_pos, school_registrations['Number of students who registered for the SHSAT'], color='g')\n",
    " \n",
    "# Create names on the y-axis\n",
    "plt.yticks(y_pos, school_names)\n",
    "plt.xlabel('SHSAT Registration Count')\n",
    "plt.ylabel('School name')\n",
    "plt.title('Total SHSAT Registration Count Per School (2013-2016)')\n",
    " \n",
    "# Show graphic\n",
    "plt.show()"
   ]
  },
  {
   "cell_type": "markdown",
   "metadata": {
    "_uuid": "59619c82b23e7378cbeb21fbc91c879ccb113fd8"
   },
   "source": [
    "# Work Still In Progress\n",
    "This notebook will always be a work in progress. Please leave any comments about further improvements to the notebook! Any feedback or constructive criticism is greatly appreciated. Thank you guys!"
   ]
  },
  {
   "cell_type": "markdown",
   "metadata": {
    "_uuid": "9b8e2a4cab630199c5f24d1d458b09911ab07a09"
   },
   "source": [
    "<img src='https://www.companyexpert.com/wp-content/uploads/2017/12/linkedin.png'/>"
   ]
  },
  {
   "cell_type": "markdown",
   "metadata": {
    "_uuid": "cdcdbaacc4f66e9cf90c020db4d6965e3b7bb61a"
   },
   "source": [
    "\n",
    "## Let's Connect!\n",
    "\n",
    "If anybody would like to discuss any other projects or just have a chat about data science topics, I'll be more than happy to connect with you on:\n",
    "\n",
    "**LinkedIn**: https://www.linkedin.com/in/randylaosat/\n",
    "\n",
    "**My Website**: http://claoudml.co\n"
   ]
  },
  {
   "cell_type": "code",
   "execution_count": null,
   "metadata": {
    "_uuid": "faf1663acfbbad20edb078a1dd86a3ae1b555c94",
    "collapsed": true
   },
   "outputs": [],
   "source": []
  }
 ],
 "metadata": {
  "kernelspec": {
   "display_name": "Python 3",
   "language": "python",
   "name": "python3"
  },
  "language_info": {
   "codemirror_mode": {
    "name": "ipython",
    "version": 3
   },
   "file_extension": ".py",
   "mimetype": "text/x-python",
   "name": "python",
   "nbconvert_exporter": "python",
   "pygments_lexer": "ipython3",
   "version": "3.6.4"
  }
 },
 "nbformat": 4,
 "nbformat_minor": 1
}
