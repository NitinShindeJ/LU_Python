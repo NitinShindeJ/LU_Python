# -*- coding: utf-8 -*-
"""
Created on Mon Jun  4 12:21:08 2018

@author: Shinde.Ni
"""

import pandas as pd
import numpy as np
#%%
cylband=pd.read_excel(r'C:\Nitin_StudyWork\DSP\DATA for Study\Classification DS\Cylinder bands_DT\Cylinder bands.xls')

#%%
cylband.dtypes
#%%
cylband.info()
cylband.describe()
#%%
cylband.describe(include='all')