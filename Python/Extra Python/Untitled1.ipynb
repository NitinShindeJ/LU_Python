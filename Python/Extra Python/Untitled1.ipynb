{
 "cells": [
  {
   "cell_type": "code",
   "execution_count": 3,
   "metadata": {},
   "outputs": [],
   "source": [
    "library(ggplot2)\n",
    "library(reshape2)\n",
    "library(dplyr)"
   ]
  },
  {
   "cell_type": "code",
   "execution_count": 4,
   "metadata": {},
   "outputs": [
    {
     "name": "stderr",
     "output_type": "stream",
     "text": [
      "starting httpd help server ... done\n"
     ]
    },
    {
     "data": {},
     "metadata": {},
     "output_type": "display_data"
    }
   ],
   "source": [
    "??dplyr"
   ]
  },
  {
   "cell_type": "code",
   "execution_count": 5,
   "metadata": {},
   "outputs": [
    {
     "name": "stdout",
     "output_type": "stream",
     "text": [
      " num 1\n"
     ]
    }
   ],
   "source": [
    "a <- 1\n",
    "str(a)"
   ]
  },
  {
   "cell_type": "code",
   "execution_count": 6,
   "metadata": {},
   "outputs": [
    {
     "name": "stdout",
     "output_type": "stream",
     "text": [
      " chr \"1\"\n"
     ]
    }
   ],
   "source": [
    "a = as.character(a)\n",
    "str(a)"
   ]
  },
  {
   "cell_type": "code",
   "execution_count": 7,
   "metadata": {},
   "outputs": [
    {
     "name": "stdout",
     "output_type": "stream",
     "text": [
      " num [1:4] 1 2 3 4\n"
     ]
    }
   ],
   "source": [
    "b<-c(1,2,3,4)\n",
    "str(b)"
   ]
  },
  {
   "cell_type": "code",
   "execution_count": 8,
   "metadata": {},
   "outputs": [
    {
     "name": "stdout",
     "output_type": "stream",
     "text": [
      " chr [1:4] \"1\" \"2\" \"3\" \"4\"\n"
     ]
    }
   ],
   "source": [
    "b<-as.character(b)\n",
    "str(b)"
   ]
  },
  {
   "cell_type": "code",
   "execution_count": 15,
   "metadata": {},
   "outputs": [
    {
     "data": {
      "text/plain": [
       "   Min. 1st Qu.  Median    Mean 3rd Qu.    Max.    NA's \n",
       "   1.00    3.25    5.50    5.50    7.75   10.00       1 "
      ]
     },
     "metadata": {},
     "output_type": "display_data"
    }
   ],
   "source": [
    "summary(c)"
   ]
  },
  {
   "cell_type": "code",
   "execution_count": 12,
   "metadata": {},
   "outputs": [],
   "source": [
    "c<-c(1:10, NA)"
   ]
  },
  {
   "cell_type": "code",
   "execution_count": 14,
   "metadata": {},
   "outputs": [
    {
     "data": {
      "text/html": [
       "<ol class=list-inline>\n",
       "\t<li>1</li>\n",
       "\t<li>2</li>\n",
       "\t<li>3</li>\n",
       "\t<li>4</li>\n",
       "\t<li>5</li>\n",
       "\t<li>6</li>\n",
       "\t<li>7</li>\n",
       "\t<li>8</li>\n",
       "\t<li>9</li>\n",
       "\t<li>10</li>\n",
       "\t<li>&lt;NA&gt;</li>\n",
       "</ol>\n"
      ],
      "text/latex": [
       "\\begin{enumerate*}\n",
       "\\item 1\n",
       "\\item 2\n",
       "\\item 3\n",
       "\\item 4\n",
       "\\item 5\n",
       "\\item 6\n",
       "\\item 7\n",
       "\\item 8\n",
       "\\item 9\n",
       "\\item 10\n",
       "\\item <NA>\n",
       "\\end{enumerate*}\n"
      ],
      "text/markdown": [
       "1. 1\n",
       "2. 2\n",
       "3. 3\n",
       "4. 4\n",
       "5. 5\n",
       "6. 6\n",
       "7. 7\n",
       "8. 8\n",
       "9. 9\n",
       "10. 10\n",
       "11. &lt;NA&gt;\n",
       "\n",
       "\n"
      ],
      "text/plain": [
       " [1]  1  2  3  4  5  6  7  8  9 10 NA"
      ]
     },
     "metadata": {},
     "output_type": "display_data"
    }
   ],
   "source": [
    "c"
   ]
  },
  {
   "cell_type": "code",
   "execution_count": 19,
   "metadata": {},
   "outputs": [
    {
     "data": {
      "text/html": [
       "55"
      ],
      "text/latex": [
       "55"
      ],
      "text/markdown": [
       "55"
      ],
      "text/plain": [
       "[1] 55"
      ]
     },
     "metadata": {},
     "output_type": "display_data"
    }
   ],
   "source": [
    "sum(c,na.rm=T)"
   ]
  },
  {
   "cell_type": "code",
   "execution_count": 21,
   "metadata": {},
   "outputs": [
    {
     "data": {
      "text/html": [
       "1"
      ],
      "text/latex": [
       "1"
      ],
      "text/markdown": [
       "1"
      ],
      "text/plain": [
       "[1] 1"
      ]
     },
     "metadata": {},
     "output_type": "display_data"
    }
   ],
   "source": [
    "sum(is.na(c))"
   ]
  },
  {
   "cell_type": "code",
   "execution_count": 29,
   "metadata": {},
   "outputs": [
    {
     "name": "stdout",
     "output_type": "stream",
     "text": [
      "[1] 100  50  75 150 200  25\n",
      "[1] 4 2 3 5 6 1\n"
     ]
    }
   ],
   "source": [
    "sales<-c(100,50,75,150,200,25)\n",
    "rank<-rank(sales)\n",
    "print(sales)\n",
    "print(rank)"
   ]
  },
  {
   "cell_type": "code",
   "execution_count": 31,
   "metadata": {},
   "outputs": [
    {
     "data": {
      "text/html": [
       "<table>\n",
       "<thead><tr><th scope=col>sales</th><th scope=col>rank</th></tr></thead>\n",
       "<tbody>\n",
       "\t<tr><td>100</td><td>4  </td></tr>\n",
       "\t<tr><td> 50</td><td>2  </td></tr>\n",
       "\t<tr><td> 75</td><td>3  </td></tr>\n",
       "\t<tr><td>150</td><td>5  </td></tr>\n",
       "\t<tr><td>200</td><td>6  </td></tr>\n",
       "\t<tr><td> 25</td><td>1  </td></tr>\n",
       "</tbody>\n",
       "</table>\n"
      ],
      "text/latex": [
       "\\begin{tabular}{r|ll}\n",
       " sales & rank\\\\\n",
       "\\hline\n",
       "\t 100 & 4  \\\\\n",
       "\t  50 & 2  \\\\\n",
       "\t  75 & 3  \\\\\n",
       "\t 150 & 5  \\\\\n",
       "\t 200 & 6  \\\\\n",
       "\t  25 & 1  \\\\\n",
       "\\end{tabular}\n"
      ],
      "text/markdown": [
       "\n",
       "sales | rank | \n",
       "|---|---|---|---|---|---|\n",
       "| 100 | 4   | \n",
       "|  50 | 2   | \n",
       "|  75 | 3   | \n",
       "| 150 | 5   | \n",
       "| 200 | 6   | \n",
       "|  25 | 1   | \n",
       "\n",
       "\n"
      ],
      "text/plain": [
       "  sales rank\n",
       "1 100   4   \n",
       "2  50   2   \n",
       "3  75   3   \n",
       "4 150   5   \n",
       "5 200   6   \n",
       "6  25   1   "
      ]
     },
     "metadata": {},
     "output_type": "display_data"
    }
   ],
   "source": [
    "data<-data.frame(sales,rank)\n",
    "data"
   ]
  },
  {
   "cell_type": "code",
   "execution_count": 32,
   "metadata": {},
   "outputs": [
    {
     "data": {
      "text/html": [
       "<table>\n",
       "<thead><tr><th scope=col>sales</th><th scope=col>rank</th><th scope=col>t</th></tr></thead>\n",
       "<tbody>\n",
       "\t<tr><td>100</td><td>4  </td><td>20 </td></tr>\n",
       "\t<tr><td> 50</td><td>2  </td><td>10 </td></tr>\n",
       "\t<tr><td> 75</td><td>3  </td><td>15 </td></tr>\n",
       "\t<tr><td>150</td><td>5  </td><td>25 </td></tr>\n",
       "\t<tr><td>200</td><td>6  </td><td>30 </td></tr>\n",
       "\t<tr><td> 25</td><td>1  </td><td> 5 </td></tr>\n",
       "</tbody>\n",
       "</table>\n"
      ],
      "text/latex": [
       "\\begin{tabular}{r|lll}\n",
       " sales & rank & t\\\\\n",
       "\\hline\n",
       "\t 100 & 4   & 20 \\\\\n",
       "\t  50 & 2   & 10 \\\\\n",
       "\t  75 & 3   & 15 \\\\\n",
       "\t 150 & 5   & 25 \\\\\n",
       "\t 200 & 6   & 30 \\\\\n",
       "\t  25 & 1   &  5 \\\\\n",
       "\\end{tabular}\n"
      ],
      "text/markdown": [
       "\n",
       "sales | rank | t | \n",
       "|---|---|---|---|---|---|\n",
       "| 100 | 4   | 20  | \n",
       "|  50 | 2   | 10  | \n",
       "|  75 | 3   | 15  | \n",
       "| 150 | 5   | 25  | \n",
       "| 200 | 6   | 30  | \n",
       "|  25 | 1   |  5  | \n",
       "\n",
       "\n"
      ],
      "text/plain": [
       "  sales rank t \n",
       "1 100   4    20\n",
       "2  50   2    10\n",
       "3  75   3    15\n",
       "4 150   5    25\n",
       "5 200   6    30\n",
       "6  25   1     5"
      ]
     },
     "metadata": {},
     "output_type": "display_data"
    }
   ],
   "source": [
    "data$t = (data$rank)*5\n",
    "data"
   ]
  },
  {
   "cell_type": "code",
   "execution_count": 34,
   "metadata": {},
   "outputs": [
    {
     "ename": "ERROR",
     "evalue": "Error in library(PerformanceAnalytics): there is no package called 'PerformanceAnalytics'\n",
     "output_type": "error",
     "traceback": [
      "Error in library(PerformanceAnalytics): there is no package called 'PerformanceAnalytics'\nTraceback:\n",
      "1. library(PerformanceAnalytics)",
      "2. stop(txt, domain = NA)"
     ]
    }
   ],
   "source": [
    "library(PerformanceAnalytics)\n",
    "chart.Correlation(data)"
   ]
  }
 ],
 "metadata": {
  "kernelspec": {
   "display_name": "R",
   "language": "R",
   "name": "ir"
  },
  "language_info": {
   "codemirror_mode": "r",
   "file_extension": ".r",
   "mimetype": "text/x-r-source",
   "name": "R",
   "pygments_lexer": "r",
   "version": "3.5.1"
  }
 },
 "nbformat": 4,
 "nbformat_minor": 2
}
